{
  "nbformat": 4,
  "nbformat_minor": 0,
  "metadata": {
    "colab": {
      "name": "20MAI0026_VGG16_Implemetation.ipynb",
      "provenance": [],
      "collapsed_sections": [],
      "authorship_tag": "ABX9TyNh2RvsiyoxHg7yOH06atSt",
      "include_colab_link": true
    },
    "kernelspec": {
      "name": "python3",
      "display_name": "Python 3"
    },
    "language_info": {
      "name": "python"
    }
  },
  "cells": [
    {
      "cell_type": "markdown",
      "metadata": {
        "id": "view-in-github",
        "colab_type": "text"
      },
      "source": [
        "<a href=\"https://colab.research.google.com/github/Jency07/Deep-learning-lab/blob/main/20MAI0026_VGG16_Implemetation.ipynb\" target=\"_parent\"><img src=\"https://colab.research.google.com/assets/colab-badge.svg\" alt=\"Open In Colab\"/></a>"
      ]
    },
    {
      "cell_type": "markdown",
      "metadata": {
        "id": "IP62t6LDPG4L"
      },
      "source": [
        "# ***ACTIVITY 2 - VGG16 Implementation***"
      ]
    },
    {
      "cell_type": "markdown",
      "metadata": {
        "id": "1tg-E2ahbM75"
      },
      "source": [
        "## **1. Importing libraries**"
      ]
    },
    {
      "cell_type": "code",
      "metadata": {
        "id": "u0RCEGuy0yRx"
      },
      "source": [
        "import keras\n",
        "from keras.models import Sequential\n",
        "from keras.layers import Dense, Activation, Dropout, Flatten, Conv2D, MaxPooling2D\n",
        "from keras import regularizers\n",
        "from keras.layers.normalization import BatchNormalization\n",
        "from keras.preprocessing.image import ImageDataGenerator\n",
        "import matplotlib.pyplot as plt\n",
        "import numpy as np\n",
        "import pandas as pd\n",
        "from keras import optimizers\n",
        "from sklearn.metrics import confusion_matrix, classification_report"
      ],
      "execution_count": null,
      "outputs": []
    },
    {
      "cell_type": "markdown",
      "metadata": {
        "id": "L5TPSgz9bM8I"
      },
      "source": [
        "## **2. VGG16 Model Creation**"
      ]
    },
    {
      "cell_type": "code",
      "metadata": {
        "id": "AxAWudImqahz",
        "colab": {
          "base_uri": "https://localhost:8080/"
        },
        "outputId": "1e82de24-690d-4e7d-cd57-290eee7fb9d4"
      },
      "source": [
        "print(\"Roll No: 20MAI0026\")\n",
        "print(\"*****************************\")\n",
        "print(\"\\n\")\n",
        "\n",
        "weight_decay = 0.0005\n",
        "\n",
        "model = Sequential()\n",
        "\n",
        "\n",
        "model.add(Conv2D(64, (3, 3), padding='same',\n",
        "                         input_shape=(32,32,3),kernel_regularizer=regularizers.l2(weight_decay)))\n",
        "model.add(Activation('relu'))\n",
        "model.add(BatchNormalization())\n",
        "model.add(Dropout(0.3))\n",
        "\n",
        "model.add(Conv2D(64, (3, 3), padding='same',kernel_regularizer=regularizers.l2(weight_decay)))\n",
        "model.add(Activation('relu'))\n",
        "model.add(BatchNormalization())\n",
        "\n",
        "model.add(MaxPooling2D(pool_size=(2, 2)))\n",
        "\n",
        "model.add(Conv2D(128, (3, 3), padding='same',kernel_regularizer=regularizers.l2(weight_decay)))\n",
        "model.add(Activation('relu'))\n",
        "model.add(BatchNormalization())\n",
        "model.add(Dropout(0.4))\n",
        "\n",
        "model.add(Conv2D(128, (3, 3), padding='same',kernel_regularizer=regularizers.l2(weight_decay)))\n",
        "model.add(Activation('relu'))\n",
        "model.add(BatchNormalization())\n",
        "\n",
        "model.add(MaxPooling2D(pool_size=(2, 2)))\n",
        "\n",
        "model.add(Conv2D(256, (3, 3), padding='same',kernel_regularizer=regularizers.l2(weight_decay)))\n",
        "model.add(Activation('relu'))\n",
        "model.add(BatchNormalization())\n",
        "model.add(Dropout(0.4))\n",
        "\n",
        "model.add(Conv2D(256, (3, 3), padding='same',kernel_regularizer=regularizers.l2(weight_decay)))\n",
        "model.add(Activation('relu'))\n",
        "model.add(BatchNormalization())\n",
        "model.add(Dropout(0.4))\n",
        "\n",
        "model.add(Conv2D(256, (3, 3), padding='same',kernel_regularizer=regularizers.l2(weight_decay)))\n",
        "model.add(Activation('relu'))\n",
        "model.add(BatchNormalization())\n",
        "\n",
        "model.add(MaxPooling2D(pool_size=(2, 2)))\n",
        "\n",
        "\n",
        "model.add(Conv2D(512, (3, 3), padding='same',kernel_regularizer=regularizers.l2(weight_decay)))\n",
        "model.add(Activation('relu'))\n",
        "model.add(BatchNormalization())\n",
        "model.add(Dropout(0.4))\n",
        "\n",
        "model.add(Conv2D(512, (3, 3), padding='same',kernel_regularizer=regularizers.l2(weight_decay)))\n",
        "model.add(Activation('relu'))\n",
        "model.add(BatchNormalization())\n",
        "model.add(Dropout(0.4))\n",
        "\n",
        "model.add(Conv2D(512, (3, 3), padding='same',kernel_regularizer=regularizers.l2(weight_decay)))\n",
        "model.add(Activation('relu'))\n",
        "model.add(BatchNormalization())\n",
        "\n",
        "model.add(MaxPooling2D(pool_size=(2, 2)))\n",
        "\n",
        "\n",
        "model.add(Conv2D(512, (3, 3), padding='same',kernel_regularizer=regularizers.l2(weight_decay)))\n",
        "model.add(Activation('relu'))\n",
        "model.add(BatchNormalization())\n",
        "model.add(Dropout(0.4))\n",
        "\n",
        "model.add(Conv2D(512, (3, 3), padding='same',kernel_regularizer=regularizers.l2(weight_decay)))\n",
        "model.add(Activation('relu'))\n",
        "model.add(BatchNormalization())\n",
        "model.add(Dropout(0.4))\n",
        "\n",
        "model.add(Conv2D(512, (3, 3), padding='same',kernel_regularizer=regularizers.l2(weight_decay)))\n",
        "model.add(Activation('relu'))\n",
        "model.add(BatchNormalization())\n",
        "\n",
        "model.add(MaxPooling2D(pool_size=(2, 2)))\n",
        "model.add(Dropout(0.5))\n",
        "\n",
        "model.add(Flatten())\n",
        "model.add(Dense(512,kernel_regularizer=regularizers.l2(weight_decay)))\n",
        "model.add(Activation('relu'))\n",
        "model.add(BatchNormalization())\n",
        "\n",
        "model.add(Dropout(0.5))\n",
        "model.add(Dense(10))\n",
        "model.add(Activation('softmax'))\n",
        "model.summary()"
      ],
      "execution_count": null,
      "outputs": [
        {
          "output_type": "stream",
          "text": [
            "Roll No: 20MAI0026\n",
            "*****************************\n",
            "\n",
            "\n",
            "Model: \"sequential\"\n",
            "_________________________________________________________________\n",
            "Layer (type)                 Output Shape              Param #   \n",
            "=================================================================\n",
            "conv2d (Conv2D)              (None, 32, 32, 64)        1792      \n",
            "_________________________________________________________________\n",
            "activation (Activation)      (None, 32, 32, 64)        0         \n",
            "_________________________________________________________________\n",
            "batch_normalization (BatchNo (None, 32, 32, 64)        256       \n",
            "_________________________________________________________________\n",
            "dropout (Dropout)            (None, 32, 32, 64)        0         \n",
            "_________________________________________________________________\n",
            "conv2d_1 (Conv2D)            (None, 32, 32, 64)        36928     \n",
            "_________________________________________________________________\n",
            "activation_1 (Activation)    (None, 32, 32, 64)        0         \n",
            "_________________________________________________________________\n",
            "batch_normalization_1 (Batch (None, 32, 32, 64)        256       \n",
            "_________________________________________________________________\n",
            "max_pooling2d (MaxPooling2D) (None, 16, 16, 64)        0         \n",
            "_________________________________________________________________\n",
            "conv2d_2 (Conv2D)            (None, 16, 16, 128)       73856     \n",
            "_________________________________________________________________\n",
            "activation_2 (Activation)    (None, 16, 16, 128)       0         \n",
            "_________________________________________________________________\n",
            "batch_normalization_2 (Batch (None, 16, 16, 128)       512       \n",
            "_________________________________________________________________\n",
            "dropout_1 (Dropout)          (None, 16, 16, 128)       0         \n",
            "_________________________________________________________________\n",
            "conv2d_3 (Conv2D)            (None, 16, 16, 128)       147584    \n",
            "_________________________________________________________________\n",
            "activation_3 (Activation)    (None, 16, 16, 128)       0         \n",
            "_________________________________________________________________\n",
            "batch_normalization_3 (Batch (None, 16, 16, 128)       512       \n",
            "_________________________________________________________________\n",
            "max_pooling2d_1 (MaxPooling2 (None, 8, 8, 128)         0         \n",
            "_________________________________________________________________\n",
            "conv2d_4 (Conv2D)            (None, 8, 8, 256)         295168    \n",
            "_________________________________________________________________\n",
            "activation_4 (Activation)    (None, 8, 8, 256)         0         \n",
            "_________________________________________________________________\n",
            "batch_normalization_4 (Batch (None, 8, 8, 256)         1024      \n",
            "_________________________________________________________________\n",
            "dropout_2 (Dropout)          (None, 8, 8, 256)         0         \n",
            "_________________________________________________________________\n",
            "conv2d_5 (Conv2D)            (None, 8, 8, 256)         590080    \n",
            "_________________________________________________________________\n",
            "activation_5 (Activation)    (None, 8, 8, 256)         0         \n",
            "_________________________________________________________________\n",
            "batch_normalization_5 (Batch (None, 8, 8, 256)         1024      \n",
            "_________________________________________________________________\n",
            "dropout_3 (Dropout)          (None, 8, 8, 256)         0         \n",
            "_________________________________________________________________\n",
            "conv2d_6 (Conv2D)            (None, 8, 8, 256)         590080    \n",
            "_________________________________________________________________\n",
            "activation_6 (Activation)    (None, 8, 8, 256)         0         \n",
            "_________________________________________________________________\n",
            "batch_normalization_6 (Batch (None, 8, 8, 256)         1024      \n",
            "_________________________________________________________________\n",
            "max_pooling2d_2 (MaxPooling2 (None, 4, 4, 256)         0         \n",
            "_________________________________________________________________\n",
            "conv2d_7 (Conv2D)            (None, 4, 4, 512)         1180160   \n",
            "_________________________________________________________________\n",
            "activation_7 (Activation)    (None, 4, 4, 512)         0         \n",
            "_________________________________________________________________\n",
            "batch_normalization_7 (Batch (None, 4, 4, 512)         2048      \n",
            "_________________________________________________________________\n",
            "dropout_4 (Dropout)          (None, 4, 4, 512)         0         \n",
            "_________________________________________________________________\n",
            "conv2d_8 (Conv2D)            (None, 4, 4, 512)         2359808   \n",
            "_________________________________________________________________\n",
            "activation_8 (Activation)    (None, 4, 4, 512)         0         \n",
            "_________________________________________________________________\n",
            "batch_normalization_8 (Batch (None, 4, 4, 512)         2048      \n",
            "_________________________________________________________________\n",
            "dropout_5 (Dropout)          (None, 4, 4, 512)         0         \n",
            "_________________________________________________________________\n",
            "conv2d_9 (Conv2D)            (None, 4, 4, 512)         2359808   \n",
            "_________________________________________________________________\n",
            "activation_9 (Activation)    (None, 4, 4, 512)         0         \n",
            "_________________________________________________________________\n",
            "batch_normalization_9 (Batch (None, 4, 4, 512)         2048      \n",
            "_________________________________________________________________\n",
            "max_pooling2d_3 (MaxPooling2 (None, 2, 2, 512)         0         \n",
            "_________________________________________________________________\n",
            "conv2d_10 (Conv2D)           (None, 2, 2, 512)         2359808   \n",
            "_________________________________________________________________\n",
            "activation_10 (Activation)   (None, 2, 2, 512)         0         \n",
            "_________________________________________________________________\n",
            "batch_normalization_10 (Batc (None, 2, 2, 512)         2048      \n",
            "_________________________________________________________________\n",
            "dropout_6 (Dropout)          (None, 2, 2, 512)         0         \n",
            "_________________________________________________________________\n",
            "conv2d_11 (Conv2D)           (None, 2, 2, 512)         2359808   \n",
            "_________________________________________________________________\n",
            "activation_11 (Activation)   (None, 2, 2, 512)         0         \n",
            "_________________________________________________________________\n",
            "batch_normalization_11 (Batc (None, 2, 2, 512)         2048      \n",
            "_________________________________________________________________\n",
            "dropout_7 (Dropout)          (None, 2, 2, 512)         0         \n",
            "_________________________________________________________________\n",
            "conv2d_12 (Conv2D)           (None, 2, 2, 512)         2359808   \n",
            "_________________________________________________________________\n",
            "activation_12 (Activation)   (None, 2, 2, 512)         0         \n",
            "_________________________________________________________________\n",
            "batch_normalization_12 (Batc (None, 2, 2, 512)         2048      \n",
            "_________________________________________________________________\n",
            "max_pooling2d_4 (MaxPooling2 (None, 1, 1, 512)         0         \n",
            "_________________________________________________________________\n",
            "dropout_8 (Dropout)          (None, 1, 1, 512)         0         \n",
            "_________________________________________________________________\n",
            "flatten (Flatten)            (None, 512)               0         \n",
            "_________________________________________________________________\n",
            "dense (Dense)                (None, 512)               262656    \n",
            "_________________________________________________________________\n",
            "activation_13 (Activation)   (None, 512)               0         \n",
            "_________________________________________________________________\n",
            "batch_normalization_13 (Batc (None, 512)               2048      \n",
            "_________________________________________________________________\n",
            "dropout_9 (Dropout)          (None, 512)               0         \n",
            "_________________________________________________________________\n",
            "dense_1 (Dense)              (None, 10)                5130      \n",
            "_________________________________________________________________\n",
            "activation_14 (Activation)   (None, 10)                0         \n",
            "=================================================================\n",
            "Total params: 15,001,418\n",
            "Trainable params: 14,991,946\n",
            "Non-trainable params: 9,472\n",
            "_________________________________________________________________\n"
          ],
          "name": "stdout"
        }
      ]
    },
    {
      "cell_type": "markdown",
      "metadata": {
        "id": "UPITHIIRbM8K"
      },
      "source": [
        "## **3. Compiling the model**"
      ]
    },
    {
      "cell_type": "code",
      "metadata": {
        "id": "ejIfHenju91u"
      },
      "source": [
        "learning_rate = 0.1\n",
        "lr_decay = 1e-6\n",
        "lr_drop = 20\n",
        "\n",
        "sgd = optimizers.SGD(lr=learning_rate, decay=lr_decay, momentum=0.9, nesterov=True)\n",
        "\n",
        "model.compile(loss='categorical_crossentropy', optimizer=sgd, metrics=['accuracy'])"
      ],
      "execution_count": null,
      "outputs": []
    },
    {
      "cell_type": "markdown",
      "metadata": {
        "id": "x9XgRwqZbM8K"
      },
      "source": [
        "## **4. Loading the dataset**"
      ]
    },
    {
      "cell_type": "code",
      "metadata": {
        "id": "lJJrJRGTzNHe",
        "colab": {
          "base_uri": "https://localhost:8080/"
        },
        "outputId": "46e0faca-8fd9-4be2-ef19-0717ce06d2fd"
      },
      "source": [
        "from keras.datasets import cifar10\n",
        "\n",
        "(x_train, y_train), (x_test, y_test) = cifar10.load_data()\n"
      ],
      "execution_count": null,
      "outputs": [
        {
          "output_type": "stream",
          "text": [
            "Downloading data from https://www.cs.toronto.edu/~kriz/cifar-10-python.tar.gz\n",
            "170500096/170498071 [==============================] - 6s 0us/step\n"
          ],
          "name": "stdout"
        }
      ]
    },
    {
      "cell_type": "code",
      "metadata": {
        "colab": {
          "base_uri": "https://localhost:8080/",
          "height": 272
        },
        "id": "MUMRiSrh5U4x",
        "outputId": "6778d25b-7fc2-48e0-ecda-bfc5bdb4eee2"
      },
      "source": [
        "# Displays 10 sample input images\n",
        "\n",
        "print(\"Roll No: 20MAI0026\")\n",
        "print(\"*****************************\")\n",
        "print(\"\\n\")\n",
        "\n",
        "for i in range(10):\n",
        "# define subplot\n",
        "  plt.subplot(4,4,i+1)\n",
        "# plot raw pixel data\n",
        "  plt.imshow(x_train[i])\n",
        "  plt.title(str(y_train[i]))\n",
        "  plt.axis('off')\n",
        "\n",
        "# show the figure\n",
        "\n",
        "plt.show()"
      ],
      "execution_count": null,
      "outputs": [
        {
          "output_type": "stream",
          "text": [
            "Roll No: 20MAI0026\n",
            "*****************************\n",
            "\n",
            "\n"
          ],
          "name": "stdout"
        },
        {
          "output_type": "display_data",
          "data": {
            "image/png": "[encoded data removed]",
            "text/plain": [
              "<Figure size 432x288 with 10 Axes>"
            ]
          },
          "metadata": {
            "tags": [],
            "needs_background": "light"
          }
        }
      ]
    },
    {
      "cell_type": "markdown",
      "metadata": {
        "id": "N3Yv79pqbM8M"
      },
      "source": [
        "## **5. Train Test Split**"
      ]
    },
    {
      "cell_type": "code",
      "metadata": {
        "id": "1BiNVKxQbM8M"
      },
      "source": [
        "#Train-validation-test split\n",
        "from sklearn.model_selection import train_test_split\n",
        "x_train,x_val,y_train,y_val=train_test_split(x_train,y_train,test_size=0.1)"
      ],
      "execution_count": null,
      "outputs": []
    },
    {
      "cell_type": "markdown",
      "metadata": {
        "id": "TdhLEqUgbM8M"
      },
      "source": [
        "## **6. Feature Engineering**"
      ]
    },
    {
      "cell_type": "code",
      "metadata": {
        "id": "6waAa_at2Zke"
      },
      "source": [
        "#Onehot Encoding the labels.\n",
        "from sklearn.utils.multiclass import unique_labels\n",
        "from keras.utils import to_categorical\n",
        "\n",
        "x_train = x_train.astype('float32')\n",
        "x_test = x_test.astype('float32')\n",
        "\n",
        "y_train = to_categorical(y_train, 10)\n",
        "y_test = to_categorical(y_test, 10)\n"
      ],
      "execution_count": null,
      "outputs": []
    },
    {
      "cell_type": "code",
      "metadata": {
        "colab": {
          "base_uri": "https://localhost:8080/"
        },
        "id": "tuHYhWgiF5GD",
        "outputId": "14c51305-6490-4139-de99-32a9e3200d86"
      },
      "source": [
        "print(\"Roll No: 20MAI0026\")\n",
        "print(\"*****************************\")\n",
        "print(\"\\n\")\n",
        "#Dataset details\n",
        "print(\"Total number of images in database\", x_train.shape[0]+x_val.shape[0]+x_test.shape[0])\n",
        "print(\"Total number of images in training dataset\", x_train.shape[0])\n",
        "print(\"Total number of images in validation dataset\", x_val.shape[0])\n",
        "print(\"Total number of images in testing dataset\", x_test.shape[0])\n",
        "print(\"Size of image \"+str(x_train.shape[1])+\"*\"+str(x_train.shape[2])+\"*\"+str(x_train.shape[3]))\n",
        "print(\"Number of classes \"+str(y_train.shape[1]))"
      ],
      "execution_count": null,
      "outputs": [
        {
          "output_type": "stream",
          "text": [
            "Roll No: 20MAI0026\n",
            "*****************************\n",
            "\n",
            "\n",
            "Total number of images in database 60000\n",
            "Total number of images in training dataset 45000\n",
            "Total number of images in validation dataset 5000\n",
            "Total number of images in testing dataset 10000\n",
            "Size of image 32*32*3\n",
            "Number of classes 10\n"
          ],
          "name": "stdout"
        }
      ]
    },
    {
      "cell_type": "code",
      "metadata": {
        "id": "xpABpxhM3tDN"
      },
      "source": [
        "#Data Augmentation\n",
        "datagen = ImageDataGenerator(\n",
        "    \n",
        "    featurewise_center=False,  # set input mean to 0 over the dataset\n",
        "    samplewise_center=False,  # set each sample mean to 0\n",
        "    featurewise_std_normalization=False,  # divide inputs by std of the dataset\n",
        "    samplewise_std_normalization=False,  # divide each input by its std\n",
        "    zca_whitening=False,  # apply ZCA whitening\n",
        "    rotation_range=15,  # randomly rotate images in the range (degrees, 0 to 180)\n",
        "    width_shift_range=0.1,  # randomly shift images horizontally (fraction of total width)\n",
        "    height_shift_range=0.1,  # randomly shift images vertically (fraction of total height)\n",
        "    horizontal_flip=True,  # randomly flip images\n",
        "    vertical_flip=False)  # randomly flip images"
      ],
      "execution_count": null,
      "outputs": []
    },
    {
      "cell_type": "markdown",
      "metadata": {
        "id": "HkSXno45bM8O"
      },
      "source": [
        "## **7. Training the model**"
      ]
    },
    {
      "cell_type": "code",
      "metadata": {
        "id": "BqMoXKpirhiM"
      },
      "source": [
        "def lr_scheduler(epoch):\n",
        "            return learning_rate * (0.5 ** (epoch // lr_drop))\n",
        "    \n",
        "reduce_lr = keras.callbacks.LearningRateScheduler(lr_scheduler)"
      ],
      "execution_count": null,
      "outputs": []
    },
    {
      "cell_type": "code",
      "metadata": {
        "colab": {
          "base_uri": "https://localhost:8080/"
        },
        "id": "Gttm7_rRrniU",
        "outputId": "26eb67bf-afbe-41e9-9fa2-ba5d2ab58df9"
      },
      "source": [
        "print(\"Roll No: 20MAI0026\")\n",
        "print(\"*****************************\")\n",
        "print(\"\\n\")\n",
        "\n",
        "batch_size = 128\n",
        "maxepoches = 10\n",
        "\n",
        "\n",
        "history = model.fit_generator(datagen.flow(x_train, y_train,\n",
        "                                               batch_size=batch_size),\n",
        "                                  \n",
        "                                steps_per_epoch=x_train.shape[0] // batch_size,\n",
        "                                epochs=maxepoches,\n",
        "                                validation_data=(x_test, y_test),callbacks=[reduce_lr], verbose=1)"
      ],
      "execution_count": null,
      "outputs": [
        {
          "output_type": "stream",
          "text": [
            "Roll No: 20MAI0026\n",
            "*****************************\n",
            "\n",
            "\n",
            "Epoch 1/10\n"
          ],
          "name": "stdout"
        },
        {
          "output_type": "stream",
          "text": [
            "/usr/local/lib/python3.7/dist-packages/tensorflow/python/keras/engine/training.py:1844: UserWarning: `Model.fit_generator` is deprecated and will be removed in a future version. Please use `Model.fit`, which supports generators.\n",
            "  warnings.warn('`Model.fit_generator` is deprecated and '\n"
          ],
          "name": "stderr"
        },
        {
          "output_type": "stream",
          "text": [
            "351/351 [==============================] - 59s 166ms/step - loss: 23.5708 - accuracy: 0.1554 - val_loss: 18.1932 - val_accuracy: 0.1412\n",
            "Epoch 2/10\n",
            "351/351 [==============================] - 56s 159ms/step - loss: 13.4528 - accuracy: 0.2594 - val_loss: 10.5321 - val_accuracy: 0.1038\n",
            "Epoch 3/10\n",
            "351/351 [==============================] - 56s 159ms/step - loss: 7.4294 - accuracy: 0.3712 - val_loss: 6.2498 - val_accuracy: 0.2065\n",
            "Epoch 4/10\n",
            "351/351 [==============================] - 56s 159ms/step - loss: 4.4629 - accuracy: 0.4467 - val_loss: 4.1636 - val_accuracy: 0.3080\n",
            "Epoch 5/10\n",
            "351/351 [==============================] - 56s 159ms/step - loss: 2.9657 - accuracy: 0.5168 - val_loss: 2.6674 - val_accuracy: 0.4944\n",
            "Epoch 6/10\n",
            "351/351 [==============================] - 56s 159ms/step - loss: 2.2319 - accuracy: 0.5636 - val_loss: 2.1834 - val_accuracy: 0.5296\n",
            "Epoch 7/10\n",
            "351/351 [==============================] - 56s 160ms/step - loss: 1.8791 - accuracy: 0.5923 - val_loss: 2.3182 - val_accuracy: 0.4741\n",
            "Epoch 8/10\n",
            "351/351 [==============================] - 56s 160ms/step - loss: 1.6858 - accuracy: 0.6237 - val_loss: 1.9100 - val_accuracy: 0.5950\n",
            "Epoch 9/10\n",
            "351/351 [==============================] - 56s 160ms/step - loss: 1.6533 - accuracy: 0.6419 - val_loss: 1.5372 - val_accuracy: 0.6727\n",
            "Epoch 10/10\n",
            "351/351 [==============================] - 56s 160ms/step - loss: 1.5645 - accuracy: 0.6681 - val_loss: 1.5887 - val_accuracy: 0.6545\n"
          ],
          "name": "stdout"
        }
      ]
    },
    {
      "cell_type": "markdown",
      "metadata": {
        "id": "UARpJ3n5bM8P"
      },
      "source": [
        "## **8. Testing the model**"
      ]
    },
    {
      "cell_type": "code",
      "metadata": {
        "colab": {
          "base_uri": "https://localhost:8080/"
        },
        "id": "YdkpQbBRMZA-",
        "outputId": "ea089c1f-a9ce-4abb-b438-2732ee9535e3"
      },
      "source": [
        "#Making prediction\n",
        "y_pred=model.predict_classes(x_test)\n",
        "y_true=np.argmax(y_test,axis=1)"
      ],
      "execution_count": null,
      "outputs": [
        {
          "output_type": "stream",
          "text": [
            "/usr/local/lib/python3.7/dist-packages/tensorflow/python/keras/engine/sequential.py:450: UserWarning: `model.predict_classes()` is deprecated and will be removed after 2021-01-01. Please use instead:* `np.argmax(model.predict(x), axis=-1)`,   if your model does multi-class classification   (e.g. if it uses a `softmax` last-layer activation).* `(model.predict(x) > 0.5).astype(\"int32\")`,   if your model does binary classification   (e.g. if it uses a `sigmoid` last-layer activation).\n",
            "  warnings.warn('`model.predict_classes()` is deprecated and '\n"
          ],
          "name": "stderr"
        }
      ]
    },
    {
      "cell_type": "code",
      "metadata": {
        "colab": {
          "base_uri": "https://localhost:8080/",
          "height": 491
        },
        "id": "gNKB8gKURv5V",
        "outputId": "e6f0a0a4-9265-4852-fa67-15a2320ad050"
      },
      "source": [
        "#Display few test images and predictions\n",
        "\n",
        "print(\"Roll No: 20MAI0026\")\n",
        "print(\"*****************************\")\n",
        "print(\"\\n\")\n",
        "\n",
        "for i in range(10):\n",
        "# define subplot\n",
        "  plt.subplot(5,2,i+1)\n",
        "# plot raw pixel data\n",
        "  plt.imshow(x_test[i])\n",
        "  plt.title(\"Actual: \"+ str(y_true[i])+\" Predicted:\" + str(y_pred[i]))\n",
        "  plt.axis('off')\n",
        "\n",
        "# show the figure\n",
        "\n",
        "plt.show()"
      ],
      "execution_count": null,
      "outputs": [
        {
          "output_type": "stream",
          "text": [
            "Clipping input data to the valid range for imshow with RGB data ([0..1] for floats or [0..255] for integers).\n",
            "Clipping input data to the valid range for imshow with RGB data ([0..1] for floats or [0..255] for integers).\n",
            "Clipping input data to the valid range for imshow with RGB data ([0..1] for floats or [0..255] for integers).\n",
            "Clipping input data to the valid range for imshow with RGB data ([0..1] for floats or [0..255] for integers).\n",
            "Clipping input data to the valid range for imshow with RGB data ([0..1] for floats or [0..255] for integers).\n",
            "Clipping input data to the valid range for imshow with RGB data ([0..1] for floats or [0..255] for integers).\n",
            "Clipping input data to the valid range for imshow with RGB data ([0..1] for floats or [0..255] for integers).\n",
            "Clipping input data to the valid range for imshow with RGB data ([0..1] for floats or [0..255] for integers).\n",
            "Clipping input data to the valid range for imshow with RGB data ([0..1] for floats or [0..255] for integers).\n"
          ],
          "name": "stderr"
        },
        {
          "output_type": "stream",
          "text": [
            "Roll No: 20MAI0026\n",
            "*****************************\n",
            "\n",
            "\n"
          ],
          "name": "stdout"
        },
        {
          "output_type": "stream",
          "text": [
            "Clipping input data to the valid range for imshow with RGB data ([0..1] for floats or [0..255] for integers).\n"
          ],
          "name": "stderr"
        },
        {
          "output_type": "display_data",
          "data": {
            "image/png": "[encoded data removed]",
            "text/plain": [
              "<Figure size 432x288 with 10 Axes>"
            ]
          },
          "metadata": {
            "tags": [],
            "needs_background": "light"
          }
        }
      ]
    },
    {
      "cell_type": "markdown",
      "metadata": {
        "id": "eNgIBKblbM8Q"
      },
      "source": [
        "## ***9. Evaluation Metrics***"
      ]
    },
    {
      "cell_type": "markdown",
      "metadata": {
        "id": "UQFukrIwbM8Q"
      },
      "source": [
        "### ***Confusion Matrix***"
      ]
    },
    {
      "cell_type": "code",
      "metadata": {
        "colab": {
          "base_uri": "https://localhost:8080/"
        },
        "id": "q01ALRr6NHD1",
        "outputId": "bb4eba7f-d81c-4b24-b266-53667f715ea1"
      },
      "source": [
        "#Plotting the confusion matrix\n",
        "from sklearn.metrics import confusion_matrix\n",
        "\n",
        "print(\"Roll No: 20MAI0026\")\n",
        "print(\"*****************************\")\n",
        "print(\"\\n\")\n",
        "confusion_matrix = confusion_matrix(y_true, y_pred)\n",
        "print(confusion_matrix)"
      ],
      "execution_count": null,
      "outputs": [
        {
          "output_type": "stream",
          "text": [
            "Roll No: 20MAI0026\n",
            "*****************************\n",
            "\n",
            "\n",
            "[[285   6 268   1   1   1   1   4 408  25]\n",
            " [ 27 760   7   0   0   3   1   1 152  49]\n",
            " [ 10   0 766  12  46  43  46  15  51  11]\n",
            " [ 16   6 174 282  43 221  76  30 111  41]\n",
            " [ 10   1 197  16 588  17  38  73  56   4]\n",
            " [  3   5 123  86  40 622  15  59  37  10]\n",
            " [  2  10 128  15  23  21 752   2  37  10]\n",
            " [ 32   0  86  26  34  43   2 726  27  24]\n",
            " [  0   5  11   2   1   1   2   0 973   5]\n",
            " [ 16  45   6   3   0   0   6   0 133 791]]\n"
          ],
          "name": "stdout"
        }
      ]
    },
    {
      "cell_type": "markdown",
      "metadata": {
        "id": "rQCXHwZkcYIr"
      },
      "source": [
        "### ***Classification report***"
      ]
    },
    {
      "cell_type": "code",
      "metadata": {
        "colab": {
          "base_uri": "https://localhost:8080/"
        },
        "id": "pQ4G3edpVAC4",
        "outputId": "eee082df-ac7c-4461-be72-ec5030895565"
      },
      "source": [
        "# Calculate Precision and Recall for each class\n",
        "\n",
        "print(\"Roll No: 20MAI0026\")\n",
        "print(\"*****************************\")\n",
        "print(\"\\n\")\n",
        "\n",
        "report = classification_report(y_true, y_pred)\n",
        "print(report)"
      ],
      "execution_count": null,
      "outputs": [
        {
          "output_type": "stream",
          "text": [
            "Roll No: 20MAI0026\n",
            "*****************************\n",
            "\n",
            "\n",
            "              precision    recall  f1-score   support\n",
            "\n",
            "           0       0.71      0.28      0.41      1000\n",
            "           1       0.91      0.76      0.83      1000\n",
            "           2       0.43      0.77      0.55      1000\n",
            "           3       0.64      0.28      0.39      1000\n",
            "           4       0.76      0.59      0.66      1000\n",
            "           5       0.64      0.62      0.63      1000\n",
            "           6       0.80      0.75      0.78      1000\n",
            "           7       0.80      0.73      0.76      1000\n",
            "           8       0.49      0.97      0.65      1000\n",
            "           9       0.82      0.79      0.80      1000\n",
            "\n",
            "    accuracy                           0.65     10000\n",
            "   macro avg       0.70      0.65      0.65     10000\n",
            "weighted avg       0.70      0.65      0.65     10000\n",
            "\n"
          ],
          "name": "stdout"
        }
      ]
    },
    {
      "cell_type": "markdown",
      "metadata": {
        "id": "jZpSNkGIcboO"
      },
      "source": [
        "### ***Accuracy***"
      ]
    },
    {
      "cell_type": "code",
      "metadata": {
        "id": "7XASgadvxSFP",
        "colab": {
          "base_uri": "https://localhost:8080/"
        },
        "outputId": "83663310-2d0c-4b7b-987b-7fba253ce39b"
      },
      "source": [
        "#Classification accuracy\n",
        "from sklearn.metrics import accuracy_score\n",
        "\n",
        "print(\"Roll No: 20MAI0026\")\n",
        "print(\"*****************************\")\n",
        "print(\"\\n\")\n",
        "\n",
        "acc_score = accuracy_score(y_true, y_pred)\n",
        "print('Accuracy Score = ', acc_score)"
      ],
      "execution_count": null,
      "outputs": [
        {
          "output_type": "stream",
          "text": [
            "Roll No: 20MAI0026\n",
            "*****************************\n",
            "\n",
            "\n",
            "Accuracy Score =  0.6545\n"
          ],
          "name": "stdout"
        }
      ]
    }
  ]
}