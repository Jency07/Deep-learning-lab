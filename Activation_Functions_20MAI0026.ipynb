{
  "nbformat": 4,
  "nbformat_minor": 0,
  "metadata": {
    "colab": {
      "name": "Activation Functions_20MAI0026.ipynb",
      "provenance": [],
      "collapsed_sections": [],
      "authorship_tag": "ABX9TyP99lv4G5kktTHlDNFSRH2k",
      "include_colab_link": true
    },
    "kernelspec": {
      "name": "python3",
      "display_name": "Python 3"
    },
    "language_info": {
      "name": "python"
    }
  },
  "cells": [
    {
      "cell_type": "markdown",
      "metadata": {
        "id": "view-in-github",
        "colab_type": "text"
      },
      "source": [
        "<a href=\"https://colab.research.google.com/github/Jency07/Deep-learning-lab/blob/main/Activation_Functions_20MAI0026.ipynb\" target=\"_parent\"><img src=\"https://colab.research.google.com/assets/colab-badge.svg\" alt=\"Open In Colab\"/></a>"
      ]
    },
    {
      "cell_type": "markdown",
      "metadata": {
        "id": "7mdlUwQfSO8X"
      },
      "source": [
        "# ***ACTIVITY 1 - IMPLEMENTING ACTIVATION FUNCTIONS***"
      ]
    },
    {
      "cell_type": "markdown",
      "metadata": {
        "id": "RB92OZSITH1H"
      },
      "source": [
        "**1. Importing libraries**"
      ]
    },
    {
      "cell_type": "code",
      "metadata": {
        "id": "5rDtd9pLTH1J"
      },
      "source": [
        "import cv2 \n",
        "import numpy as np\n",
        "import matplotlib.pyplot as plt\n",
        "import math as mt\n"
      ],
      "execution_count": 1,
      "outputs": []
    },
    {
      "cell_type": "markdown",
      "metadata": {
        "id": "nnEN1KZeTAjo"
      },
      "source": [
        "**2.Implementation of Activation functions**"
      ]
    },
    {
      "cell_type": "markdown",
      "metadata": {
        "id": "7DL0v-xWTsXf"
      },
      "source": [
        "### ***Sigmoid Function***"
      ]
    },
    {
      "cell_type": "markdown",
      "metadata": {
        "id": "MsYqg7lpT3At"
      },
      "source": [
        "\n",
        "The output of sigmoid function will always be between 0 and 1.\n",
        "\n",
        "Mathematically it is represented as,\n",
        "\n",
        "![formula.png.webp](data:image/webp;base64,UklGRpAGAABXRUJQVlA4IIQGAACQKgCdASovAWkAPlEij0ajoaEhIfIKcHAKCWlu4MABrQgeE8/4M/mP4l9/H88/HLrHuz3sr+Ku9HeQ36rfUvyA/KXnZ96moF+J/xn+rfkt+SnIOzAeoF6y/Mv8N+Un9x8kD8Vecj/M/89+Wvqwf2byEO+fYD/jX9A/zv+D/Kf6QP3r/bf5X8rvZ3+W/3H/of2v4BP5H/Q/81/Yv3e/xX//+rf2Leh1+zn//HgdhQ4WNqcnt9P+ufyoXCSPIJSmHrn8pBoZevMeeOxY2QR2LwGwLZULfZ4qcI3hvbJxzq0Y2R/YowVWLz5+tdpr5OgJuvW1Evmhhxeni1YrliUp14VzMFwxeywFIrx4CaYEnDSXIPJbJvLYom8Axi6jJw3fuzvCoet0mck4UJnXkfLpk0HY/GCj6f9c/jDvaKC2fuddRwMhCX5AmPfdma+6IaVIKnXBlY2pye30/65/KhXgAP7gggAD0pGKRTCnhDP2P//VeV2hySLjTd1cvGW2RSWWJz0N/85+7WhxKUf+t42WOqZfwHGoC6b3g1OI1+NyfCUuGHyRf1a2Mwmohgx65MnzSJjGA9TKhHUpuG0ic+7d8N12xrKKTp1LpvDdNaL//gz0sWNn3XmICfOpxpqdi/2L/CLH0R1vAcnoIn5EFZdpUpxF4X/73re0WccvlcD8/PxsWv/gXb/GHxZppG6tM91o/FYxyw5dcel7W8Ns9CIvT9ZZECP4+HhHhVsOR3ElvW459Ens80K1qoejO2XQqpvTaid5684X+P0rV9YuEaOtFLopZ/a/Y5I/MHtcYkNnQo+KeZcgDsgWHbzqCMmqynABLT7+sFHY9LHE1SSbm37gi2rjojBhbxKqcyKrFmNCWDxv/pDRhERN+s8XfigSScf3+45+/OvrSrrIQgu0qUfwa8+1MqLrJ9LjBTZPHaNAKbkotsY3HbAOGIq281BvF2URU2w6e5Wz/LHZso7IorQ3wT3U2aG7jPbmoXhh/QYcGGE45HljnA6KdTP4SEj13WMGBmeM9krEkRV/nH9b/d6trtMDdFmw3yIreCgE/0m57pxh1Bdrb4F58dD8Mzr5YkkGhioaCM/TXPbrI55rI2AEsY7//zwc+Z+XMM2IxT/O3kPnGG+5y4ACc1yo11JzimNacsjPAfuU8bQqmJuKegHdNKDSX1r+FYk45QSrY02LqfCl9yz6gxnlI7pdfmXGfJVo8JjmDrzaOuMS8up/EyOeQvGrnR3eYxt/H1DWY1f1wJ/gTDFJ0hDm0ClEJGPrepsnbgubHBRXRtsJ1bt8NuLRRvXVXUtggv6a7qdjex3N4ssttnp7BAkWjYhtyQaz073LboH9JxMC03AHNHjOejBl9ZHfuhrdofRojZhLdvQa0TqXYWrKZCtVlUf+CRMBpFD+YAVTZBm+L75QMravdR+Z4Lq5Nxch+KdtM1LjyAtryeRnnMq56y7lL00niEo4xVj+6jmTcGt7H2W7ttezbytSV82dFbdYnw/dIv5dBkRZLNThw8n4CCCMS41NK1DK/Ztp/6pXxMRjk911xUsPDdARL+QSs9rBzqMos4CBAaJdhbqzAsjmtbJnUL0HH0EeBF3SoVmyieNu/seMSp3b109DNhM6AZocNjgzX1CxCoT/TlCj3xHiq8AEgd0jDcI02YHzWj+gTJvFHTT3/Qli1AqXaxQ8mmue9f5Ov73tFaPWhDhPEY4Lizn7quRvb9iQt7EcYi195Fk4sT4bZ8g7w59V06y3C03cc3OycWf+yUlYhJpsMciLkp0zkyCQZ3u+EALrynmGxbFuSFbHukM8rNeOnjdBFpR1g8rb8/84FL2P07fJ6j2x/cW//vJSB375xkIvW4e3GMOic2FfYjUQ6/B7/gj91f3+Vf1/z6L0eBaDeAluTAB+Uf8hBUy9fZczb1yMZrCAiKeLf9iDxOD/COU2EWQeZ+x+WUeT+16jAkhQ0tMvZhsppDrVhrCf2K8SvOcunhcwV/0KQQXTDXWc77tGOZ/+QunOO7+N5RAZjfK3kU+3kwEg3l1vGP4bHfoVTSopnM5Qf2uN5uv5wrDFj3kw63ptvq1yn5G9PbMLycZ+X8Fensw714jkmEdlSG+3PQRlFmAQL8RbppyUlUzqeagMB5SbPgrjzJn1BPT3zgQdSHELkIn9uuY/Y/yvAaWyTjQUhGtcDTxXNqm/bLVvoNvKs0i5MMruUi8rW6xi1O7toGWum9wAAAA=)\n",
        "\n"
      ]
    },
    {
      "cell_type": "code",
      "metadata": {
        "id": "H8n9gorwTA-S"
      },
      "source": [
        "#Implementation of Sigmoid Activation Function\n",
        "def sig(x):\n",
        " return 1/(1 + np.exp(-x))"
      ],
      "execution_count": 2,
      "outputs": []
    },
    {
      "cell_type": "code",
      "metadata": {
        "colab": {
          "base_uri": "https://localhost:8080/"
        },
        "id": "gzzJalaiW2P7",
        "outputId": "2ccf64fc-480d-429d-96fb-4f81f61894de"
      },
      "source": [
        "print(\"\\n Roll No: 20MAI0026\")\n",
        "print(\"\\n********************\\n\")\n",
        "\n",
        "#Demonstrating the outputs of the Activation Function\n",
        "x = np.linspace(-10, 10, 50)\n",
        "y=sig(x) \n",
        "\n",
        "for i in range(x.shape[0]):\n",
        " print('Applying Sigmoid Activation on (%.1f) gives %.1f' % (x[i], y[i]))\n"
      ],
      "execution_count": 3,
      "outputs": [
        {
          "output_type": "stream",
          "text": [
            "\n",
            " Roll No: 20MAI0026\n",
            "\n",
            "********************\n",
            "\n",
            "Applying Sigmoid Activation on (-10.0) gives 0.0\n",
            "Applying Sigmoid Activation on (-9.6) gives 0.0\n",
            "Applying Sigmoid Activation on (-9.2) gives 0.0\n",
            "Applying Sigmoid Activation on (-8.8) gives 0.0\n",
            "Applying Sigmoid Activation on (-8.4) gives 0.0\n",
            "Applying Sigmoid Activation on (-8.0) gives 0.0\n",
            "Applying Sigmoid Activation on (-7.6) gives 0.0\n",
            "Applying Sigmoid Activation on (-7.1) gives 0.0\n",
            "Applying Sigmoid Activation on (-6.7) gives 0.0\n",
            "Applying Sigmoid Activation on (-6.3) gives 0.0\n",
            "Applying Sigmoid Activation on (-5.9) gives 0.0\n",
            "Applying Sigmoid Activation on (-5.5) gives 0.0\n",
            "Applying Sigmoid Activation on (-5.1) gives 0.0\n",
            "Applying Sigmoid Activation on (-4.7) gives 0.0\n",
            "Applying Sigmoid Activation on (-4.3) gives 0.0\n",
            "Applying Sigmoid Activation on (-3.9) gives 0.0\n",
            "Applying Sigmoid Activation on (-3.5) gives 0.0\n",
            "Applying Sigmoid Activation on (-3.1) gives 0.0\n",
            "Applying Sigmoid Activation on (-2.7) gives 0.1\n",
            "Applying Sigmoid Activation on (-2.2) gives 0.1\n",
            "Applying Sigmoid Activation on (-1.8) gives 0.1\n",
            "Applying Sigmoid Activation on (-1.4) gives 0.2\n",
            "Applying Sigmoid Activation on (-1.0) gives 0.3\n",
            "Applying Sigmoid Activation on (-0.6) gives 0.4\n",
            "Applying Sigmoid Activation on (-0.2) gives 0.4\n",
            "Applying Sigmoid Activation on (0.2) gives 0.6\n",
            "Applying Sigmoid Activation on (0.6) gives 0.6\n",
            "Applying Sigmoid Activation on (1.0) gives 0.7\n",
            "Applying Sigmoid Activation on (1.4) gives 0.8\n",
            "Applying Sigmoid Activation on (1.8) gives 0.9\n",
            "Applying Sigmoid Activation on (2.2) gives 0.9\n",
            "Applying Sigmoid Activation on (2.7) gives 0.9\n",
            "Applying Sigmoid Activation on (3.1) gives 1.0\n",
            "Applying Sigmoid Activation on (3.5) gives 1.0\n",
            "Applying Sigmoid Activation on (3.9) gives 1.0\n",
            "Applying Sigmoid Activation on (4.3) gives 1.0\n",
            "Applying Sigmoid Activation on (4.7) gives 1.0\n",
            "Applying Sigmoid Activation on (5.1) gives 1.0\n",
            "Applying Sigmoid Activation on (5.5) gives 1.0\n",
            "Applying Sigmoid Activation on (5.9) gives 1.0\n",
            "Applying Sigmoid Activation on (6.3) gives 1.0\n",
            "Applying Sigmoid Activation on (6.7) gives 1.0\n",
            "Applying Sigmoid Activation on (7.1) gives 1.0\n",
            "Applying Sigmoid Activation on (7.6) gives 1.0\n",
            "Applying Sigmoid Activation on (8.0) gives 1.0\n",
            "Applying Sigmoid Activation on (8.4) gives 1.0\n",
            "Applying Sigmoid Activation on (8.8) gives 1.0\n",
            "Applying Sigmoid Activation on (9.2) gives 1.0\n",
            "Applying Sigmoid Activation on (9.6) gives 1.0\n",
            "Applying Sigmoid Activation on (10.0) gives 1.0\n"
          ],
          "name": "stdout"
        }
      ]
    },
    {
      "cell_type": "code",
      "metadata": {
        "colab": {
          "base_uri": "https://localhost:8080/",
          "height": 360
        },
        "id": "qzRYV4OBZ9WT",
        "outputId": "8824a9d7-9d82-4819-ed9c-e0f14c0a0d4a"
      },
      "source": [
        "print(\"\\n Roll No: 20MAI0026\")\n",
        "print(\"\\n********************\\n\")\n",
        "\n",
        "#Plotting sigmoid activation \n",
        "plt.xlabel(\"x\") \n",
        "plt.ylabel(\"Sigmoid(x)\") \n",
        "plt.plot(x,y)\n",
        "plt.show()"
      ],
      "execution_count": 4,
      "outputs": [
        {
          "output_type": "stream",
          "text": [
            "\n",
            " Roll No: 20MAI0026\n",
            "\n",
            "********************\n",
            "\n"
          ],
          "name": "stdout"
        },
        {
          "output_type": "display_data",
          "data": {
            "image/png": "[encoded data removed]",
            "text/plain": [
              "<Figure size 432x288 with 1 Axes>"
            ]
          },
          "metadata": {
            "tags": [],
            "needs_background": "light"
          }
        }
      ]
    },
    {
      "cell_type": "markdown",
      "metadata": {
        "id": "xxoLwn5HTBLz"
      },
      "source": [
        "\n",
        "\n",
        "### ***ReLu Function***"
      ]
    },
    {
      "cell_type": "markdown",
      "metadata": {
        "id": "1A4Lw7Y0TBkx"
      },
      "source": [
        "The ReLu activation function returns 0 if the input is negative otherwise return the input as it is.\n",
        "\n",
        "Mathematically it is represented as:\n",
        "\n",
        "![relu.png.webp](data:image/webp;base64,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)\n",
        "\n",
        "\n"
      ]
    },
    {
      "cell_type": "code",
      "metadata": {
        "id": "n4MeylMiTBw8"
      },
      "source": [
        "#Implementation of ReLu Activation Function\n",
        "def relu(x):\n",
        "    return max(0.0, x)"
      ],
      "execution_count": 5,
      "outputs": []
    },
    {
      "cell_type": "code",
      "metadata": {
        "colab": {
          "base_uri": "https://localhost:8080/"
        },
        "id": "TiunxpNaWoJj",
        "outputId": "fd9e5222-88b6-4543-a108-40bf0a76afec"
      },
      "source": [
        "print(\"\\n Roll No: 20MAI0026\")\n",
        "print(\"\\n********************\\n\")\n",
        "\n",
        "#Demonstrating the outputs of the Activation Function\n",
        "x = np.linspace(-10, 10, 50)\n",
        "for i in range(x.shape[0]):\n",
        " y[i]=relu(x[i])\n",
        " print('Applying ReLu Activation on (%.1f) gives %.1f' % (x[i], y[i]))"
      ],
      "execution_count": 6,
      "outputs": [
        {
          "output_type": "stream",
          "text": [
            "\n",
            " Roll No: 20MAI0026\n",
            "\n",
            "********************\n",
            "\n",
            "Applying ReLu Activation on (-10.0) gives 0.0\n",
            "Applying ReLu Activation on (-9.6) gives 0.0\n",
            "Applying ReLu Activation on (-9.2) gives 0.0\n",
            "Applying ReLu Activation on (-8.8) gives 0.0\n",
            "Applying ReLu Activation on (-8.4) gives 0.0\n",
            "Applying ReLu Activation on (-8.0) gives 0.0\n",
            "Applying ReLu Activation on (-7.6) gives 0.0\n",
            "Applying ReLu Activation on (-7.1) gives 0.0\n",
            "Applying ReLu Activation on (-6.7) gives 0.0\n",
            "Applying ReLu Activation on (-6.3) gives 0.0\n",
            "Applying ReLu Activation on (-5.9) gives 0.0\n",
            "Applying ReLu Activation on (-5.5) gives 0.0\n",
            "Applying ReLu Activation on (-5.1) gives 0.0\n",
            "Applying ReLu Activation on (-4.7) gives 0.0\n",
            "Applying ReLu Activation on (-4.3) gives 0.0\n",
            "Applying ReLu Activation on (-3.9) gives 0.0\n",
            "Applying ReLu Activation on (-3.5) gives 0.0\n",
            "Applying ReLu Activation on (-3.1) gives 0.0\n",
            "Applying ReLu Activation on (-2.7) gives 0.0\n",
            "Applying ReLu Activation on (-2.2) gives 0.0\n",
            "Applying ReLu Activation on (-1.8) gives 0.0\n",
            "Applying ReLu Activation on (-1.4) gives 0.0\n",
            "Applying ReLu Activation on (-1.0) gives 0.0\n",
            "Applying ReLu Activation on (-0.6) gives 0.0\n",
            "Applying ReLu Activation on (-0.2) gives 0.0\n",
            "Applying ReLu Activation on (0.2) gives 0.2\n",
            "Applying ReLu Activation on (0.6) gives 0.6\n",
            "Applying ReLu Activation on (1.0) gives 1.0\n",
            "Applying ReLu Activation on (1.4) gives 1.4\n",
            "Applying ReLu Activation on (1.8) gives 1.8\n",
            "Applying ReLu Activation on (2.2) gives 2.2\n",
            "Applying ReLu Activation on (2.7) gives 2.7\n",
            "Applying ReLu Activation on (3.1) gives 3.1\n",
            "Applying ReLu Activation on (3.5) gives 3.5\n",
            "Applying ReLu Activation on (3.9) gives 3.9\n",
            "Applying ReLu Activation on (4.3) gives 4.3\n",
            "Applying ReLu Activation on (4.7) gives 4.7\n",
            "Applying ReLu Activation on (5.1) gives 5.1\n",
            "Applying ReLu Activation on (5.5) gives 5.5\n",
            "Applying ReLu Activation on (5.9) gives 5.9\n",
            "Applying ReLu Activation on (6.3) gives 6.3\n",
            "Applying ReLu Activation on (6.7) gives 6.7\n",
            "Applying ReLu Activation on (7.1) gives 7.1\n",
            "Applying ReLu Activation on (7.6) gives 7.6\n",
            "Applying ReLu Activation on (8.0) gives 8.0\n",
            "Applying ReLu Activation on (8.4) gives 8.4\n",
            "Applying ReLu Activation on (8.8) gives 8.8\n",
            "Applying ReLu Activation on (9.2) gives 9.2\n",
            "Applying ReLu Activation on (9.6) gives 9.6\n",
            "Applying ReLu Activation on (10.0) gives 10.0\n"
          ],
          "name": "stdout"
        }
      ]
    },
    {
      "cell_type": "code",
      "metadata": {
        "colab": {
          "base_uri": "https://localhost:8080/",
          "height": 360
        },
        "id": "97BE35cKagib",
        "outputId": "3a18ddd0-60c8-44f5-8eef-12daaf2d4622"
      },
      "source": [
        "print(\"\\n Roll No: 20MAI0026\")\n",
        "print(\"\\n********************\\n\")\n",
        "\n",
        "#Plotting relu activation \n",
        "plt.xlabel(\"x\") \n",
        "plt.ylabel(\"ReLu(x)\") \n",
        "plt.plot(x,y)\n",
        "plt.show()"
      ],
      "execution_count": 7,
      "outputs": [
        {
          "output_type": "stream",
          "text": [
            "\n",
            " Roll No: 20MAI0026\n",
            "\n",
            "********************\n",
            "\n"
          ],
          "name": "stdout"
        },
        {
          "output_type": "display_data",
          "data": {
            "image/png": "[encoded data removed]",
            "text/plain": [
              "<Figure size 432x288 with 1 Axes>"
            ]
          },
          "metadata": {
            "tags": [],
            "needs_background": "light"
          }
        }
      ]
    },
    {
      "cell_type": "markdown",
      "metadata": {
        "id": "NgQTHmVzbldh"
      },
      "source": [
        "\n",
        "\n",
        "### ***Leaky ReLu Function***"
      ]
    },
    {
      "cell_type": "markdown",
      "metadata": {
        "id": "5BWJKHpdbldn"
      },
      "source": [
        "* Leaky ReLU is a variant of ReLU. \n",
        "\n",
        "* In Leaky ReLU instead of producing zero for inputs less than zero like in ReLU, it will just produce a very small value proportional to the input i.e… 0.01x otherwise return the input as it is.\n",
        "\n",
        "* Because of the small value (0.01) proportional to the input for the negative values, the gradient would not saturate.\n",
        "\n",
        "Mathematically it is represented as:\n",
        "\n",
        "\n",
        "![leakyrelu.png](data:image/png;base64,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)"
      ]
    },
    {
      "cell_type": "code",
      "metadata": {
        "id": "RHrgeeirbldo"
      },
      "source": [
        "#Implementation of Leaky ReLu Activation Function\n",
        "def leaky_relu(x):\n",
        "    return max(0.01*x, x)"
      ],
      "execution_count": 8,
      "outputs": []
    },
    {
      "cell_type": "code",
      "metadata": {
        "colab": {
          "base_uri": "https://localhost:8080/"
        },
        "id": "6H05kOjbbldp",
        "outputId": "7162bb8c-5859-47f3-a501-e605da3cc51c"
      },
      "source": [
        "print(\"\\n Roll No: 20MAI0026\")\n",
        "print(\"\\n********************\\n\")\n",
        "\n",
        "#Demonstrating the outputs of the Activation Function\n",
        "x = np.linspace(-50, 5, 50)\n",
        "for i in range(x.shape[0]):\n",
        " y[i]=leaky_relu(x[i])\n",
        " print('Applying Leaky ReLu Activation on (%.1f) gives %.1f' % (x[i], y[i]))"
      ],
      "execution_count": 9,
      "outputs": [
        {
          "output_type": "stream",
          "text": [
            "\n",
            " Roll No: 20MAI0026\n",
            "\n",
            "********************\n",
            "\n",
            "Applying Leaky ReLu Activation on (-50.0) gives -0.5\n",
            "Applying Leaky ReLu Activation on (-48.9) gives -0.5\n",
            "Applying Leaky ReLu Activation on (-47.8) gives -0.5\n",
            "Applying Leaky ReLu Activation on (-46.6) gives -0.5\n",
            "Applying Leaky ReLu Activation on (-45.5) gives -0.5\n",
            "Applying Leaky ReLu Activation on (-44.4) gives -0.4\n",
            "Applying Leaky ReLu Activation on (-43.3) gives -0.4\n",
            "Applying Leaky ReLu Activation on (-42.1) gives -0.4\n",
            "Applying Leaky ReLu Activation on (-41.0) gives -0.4\n",
            "Applying Leaky ReLu Activation on (-39.9) gives -0.4\n",
            "Applying Leaky ReLu Activation on (-38.8) gives -0.4\n",
            "Applying Leaky ReLu Activation on (-37.7) gives -0.4\n",
            "Applying Leaky ReLu Activation on (-36.5) gives -0.4\n",
            "Applying Leaky ReLu Activation on (-35.4) gives -0.4\n",
            "Applying Leaky ReLu Activation on (-34.3) gives -0.3\n",
            "Applying Leaky ReLu Activation on (-33.2) gives -0.3\n",
            "Applying Leaky ReLu Activation on (-32.0) gives -0.3\n",
            "Applying Leaky ReLu Activation on (-30.9) gives -0.3\n",
            "Applying Leaky ReLu Activation on (-29.8) gives -0.3\n",
            "Applying Leaky ReLu Activation on (-28.7) gives -0.3\n",
            "Applying Leaky ReLu Activation on (-27.6) gives -0.3\n",
            "Applying Leaky ReLu Activation on (-26.4) gives -0.3\n",
            "Applying Leaky ReLu Activation on (-25.3) gives -0.3\n",
            "Applying Leaky ReLu Activation on (-24.2) gives -0.2\n",
            "Applying Leaky ReLu Activation on (-23.1) gives -0.2\n",
            "Applying Leaky ReLu Activation on (-21.9) gives -0.2\n",
            "Applying Leaky ReLu Activation on (-20.8) gives -0.2\n",
            "Applying Leaky ReLu Activation on (-19.7) gives -0.2\n",
            "Applying Leaky ReLu Activation on (-18.6) gives -0.2\n",
            "Applying Leaky ReLu Activation on (-17.4) gives -0.2\n",
            "Applying Leaky ReLu Activation on (-16.3) gives -0.2\n",
            "Applying Leaky ReLu Activation on (-15.2) gives -0.2\n",
            "Applying Leaky ReLu Activation on (-14.1) gives -0.1\n",
            "Applying Leaky ReLu Activation on (-13.0) gives -0.1\n",
            "Applying Leaky ReLu Activation on (-11.8) gives -0.1\n",
            "Applying Leaky ReLu Activation on (-10.7) gives -0.1\n",
            "Applying Leaky ReLu Activation on (-9.6) gives -0.1\n",
            "Applying Leaky ReLu Activation on (-8.5) gives -0.1\n",
            "Applying Leaky ReLu Activation on (-7.3) gives -0.1\n",
            "Applying Leaky ReLu Activation on (-6.2) gives -0.1\n",
            "Applying Leaky ReLu Activation on (-5.1) gives -0.1\n",
            "Applying Leaky ReLu Activation on (-4.0) gives -0.0\n",
            "Applying Leaky ReLu Activation on (-2.9) gives -0.0\n",
            "Applying Leaky ReLu Activation on (-1.7) gives -0.0\n",
            "Applying Leaky ReLu Activation on (-0.6) gives -0.0\n",
            "Applying Leaky ReLu Activation on (0.5) gives 0.5\n",
            "Applying Leaky ReLu Activation on (1.6) gives 1.6\n",
            "Applying Leaky ReLu Activation on (2.8) gives 2.8\n",
            "Applying Leaky ReLu Activation on (3.9) gives 3.9\n",
            "Applying Leaky ReLu Activation on (5.0) gives 5.0\n"
          ],
          "name": "stdout"
        }
      ]
    },
    {
      "cell_type": "code",
      "metadata": {
        "colab": {
          "base_uri": "https://localhost:8080/",
          "height": 360
        },
        "id": "u2seYvm2bldq",
        "outputId": "b6fd2811-1835-451b-f882-014fca277f8d"
      },
      "source": [
        "print(\"\\n Roll No: 20MAI0026\")\n",
        "print(\"\\n********************\\n\")\n",
        "\n",
        "#Plotting leaky relu activation \n",
        "plt.xlabel(\"x\") \n",
        "plt.ylabel(\"Leaky ReLu(x)\") \n",
        "plt.plot(x,y)\n",
        "plt.show()"
      ],
      "execution_count": 10,
      "outputs": [
        {
          "output_type": "stream",
          "text": [
            "\n",
            " Roll No: 20MAI0026\n",
            "\n",
            "********************\n",
            "\n"
          ],
          "name": "stdout"
        },
        {
          "output_type": "display_data",
          "data": {
            "image/png": "[encoded data removed]",
            "text/plain": [
              "<Figure size 432x288 with 1 Axes>"
            ]
          },
          "metadata": {
            "tags": [],
            "needs_background": "light"
          }
        }
      ]
    },
    {
      "cell_type": "markdown",
      "metadata": {
        "id": "l8s-so2DejQR"
      },
      "source": [
        "\n",
        "\n",
        "### ***Exponential ReLu Function (ELU)***"
      ]
    },
    {
      "cell_type": "markdown",
      "metadata": {
        "id": "qn6SxIOQejQV"
      },
      "source": [
        "* The Exponential ReLu activation function(ELU) returns output as exp(x) – 1 if the input is negative, otherwise return the input as it is.\n",
        "\n",
        "* As input values tend to become more and more negative, the output tends to be closer to 1.\n",
        "\n",
        "Mathematically it is represented as:\n",
        "\n",
        "y = ELU(x) = exp(x) − 1 ; if x<0\n",
        "\n",
        "y = ELU(x) = x ; if x≥0"
      ]
    },
    {
      "cell_type": "code",
      "metadata": {
        "id": "qYTVwB51ejQZ"
      },
      "source": [
        "#Implementation of ELU Activation Function\n",
        "def exp_relu(x):\n",
        "  if x>=0 :\n",
        "    return x\n",
        "  else :\n",
        "    return mt.exp(x)-1"
      ],
      "execution_count": 11,
      "outputs": []
    },
    {
      "cell_type": "code",
      "metadata": {
        "colab": {
          "base_uri": "https://localhost:8080/"
        },
        "id": "guYXEssAejQc",
        "outputId": "f01dac90-3816-44c3-f057-1303110f2089"
      },
      "source": [
        "print(\"\\n Roll No: 20MAI0026\")\n",
        "print(\"\\n********************\\n\")\n",
        "\n",
        "#Demonstrating the outputs of the Activation Function\n",
        "x = np.linspace(-50, 10, 50)\n",
        "for i in range(x.shape[0]):\n",
        " y[i]=exp_relu(x[i])\n",
        " print('Applying ELU Activation on (%.1f) gives %.1f' % (x[i], y[i]))"
      ],
      "execution_count": 12,
      "outputs": [
        {
          "output_type": "stream",
          "text": [
            "\n",
            " Roll No: 20MAI0026\n",
            "\n",
            "********************\n",
            "\n",
            "Applying ELU Activation on (-50.0) gives -1.0\n",
            "Applying ELU Activation on (-48.8) gives -1.0\n",
            "Applying ELU Activation on (-47.6) gives -1.0\n",
            "Applying ELU Activation on (-46.3) gives -1.0\n",
            "Applying ELU Activation on (-45.1) gives -1.0\n",
            "Applying ELU Activation on (-43.9) gives -1.0\n",
            "Applying ELU Activation on (-42.7) gives -1.0\n",
            "Applying ELU Activation on (-41.4) gives -1.0\n",
            "Applying ELU Activation on (-40.2) gives -1.0\n",
            "Applying ELU Activation on (-39.0) gives -1.0\n",
            "Applying ELU Activation on (-37.8) gives -1.0\n",
            "Applying ELU Activation on (-36.5) gives -1.0\n",
            "Applying ELU Activation on (-35.3) gives -1.0\n",
            "Applying ELU Activation on (-34.1) gives -1.0\n",
            "Applying ELU Activation on (-32.9) gives -1.0\n",
            "Applying ELU Activation on (-31.6) gives -1.0\n",
            "Applying ELU Activation on (-30.4) gives -1.0\n",
            "Applying ELU Activation on (-29.2) gives -1.0\n",
            "Applying ELU Activation on (-28.0) gives -1.0\n",
            "Applying ELU Activation on (-26.7) gives -1.0\n",
            "Applying ELU Activation on (-25.5) gives -1.0\n",
            "Applying ELU Activation on (-24.3) gives -1.0\n",
            "Applying ELU Activation on (-23.1) gives -1.0\n",
            "Applying ELU Activation on (-21.8) gives -1.0\n",
            "Applying ELU Activation on (-20.6) gives -1.0\n",
            "Applying ELU Activation on (-19.4) gives -1.0\n",
            "Applying ELU Activation on (-18.2) gives -1.0\n",
            "Applying ELU Activation on (-16.9) gives -1.0\n",
            "Applying ELU Activation on (-15.7) gives -1.0\n",
            "Applying ELU Activation on (-14.5) gives -1.0\n",
            "Applying ELU Activation on (-13.3) gives -1.0\n",
            "Applying ELU Activation on (-12.0) gives -1.0\n",
            "Applying ELU Activation on (-10.8) gives -1.0\n",
            "Applying ELU Activation on (-9.6) gives -1.0\n",
            "Applying ELU Activation on (-8.4) gives -1.0\n",
            "Applying ELU Activation on (-7.1) gives -1.0\n",
            "Applying ELU Activation on (-5.9) gives -1.0\n",
            "Applying ELU Activation on (-4.7) gives -1.0\n",
            "Applying ELU Activation on (-3.5) gives -1.0\n",
            "Applying ELU Activation on (-2.2) gives -0.9\n",
            "Applying ELU Activation on (-1.0) gives -0.6\n",
            "Applying ELU Activation on (0.2) gives 0.2\n",
            "Applying ELU Activation on (1.4) gives 1.4\n",
            "Applying ELU Activation on (2.7) gives 2.7\n",
            "Applying ELU Activation on (3.9) gives 3.9\n",
            "Applying ELU Activation on (5.1) gives 5.1\n",
            "Applying ELU Activation on (6.3) gives 6.3\n",
            "Applying ELU Activation on (7.6) gives 7.6\n",
            "Applying ELU Activation on (8.8) gives 8.8\n",
            "Applying ELU Activation on (10.0) gives 10.0\n"
          ],
          "name": "stdout"
        }
      ]
    },
    {
      "cell_type": "code",
      "metadata": {
        "colab": {
          "base_uri": "https://localhost:8080/",
          "height": 360
        },
        "id": "TL8AwMLVejQd",
        "outputId": "3076a6af-3c39-4a57-e6d1-f5e7ead35e3a"
      },
      "source": [
        "print(\"\\n Roll No: 20MAI0026\")\n",
        "print(\"\\n********************\\n\")\n",
        "\n",
        "#Plotting exponential relu activation \n",
        "plt.xlabel(\"x\") \n",
        "plt.ylabel(\"Exponential ReLu(x)\") \n",
        "plt.plot(x,y)\n",
        "plt.show()"
      ],
      "execution_count": 13,
      "outputs": [
        {
          "output_type": "stream",
          "text": [
            "\n",
            " Roll No: 20MAI0026\n",
            "\n",
            "********************\n",
            "\n"
          ],
          "name": "stdout"
        },
        {
          "output_type": "display_data",
          "data": {
            "image/png": "[encoded data removed]",
            "text/plain": [
              "<Figure size 432x288 with 1 Axes>"
            ]
          },
          "metadata": {
            "tags": [],
            "needs_background": "light"
          }
        }
      ]
    },
    {
      "cell_type": "markdown",
      "metadata": {
        "id": "xjtgWjVthfSK"
      },
      "source": [
        "\n",
        "\n",
        "### ***Tanh Activation Function***"
      ]
    },
    {
      "cell_type": "markdown",
      "metadata": {
        "id": "sKFlDaXchfSW"
      },
      "source": [
        "* Tanh is a non-linear activation function that compresses all its inputs to the range [-1, 1].\n",
        "\n",
        "* It saturates at large positive or large negative values and the gradient still vanishes at saturation. But Tanh function is zero-centered so that the gradients are not restricted to move in certain directions. \n",
        "\n",
        "Mathematically it is represented as:\n",
        "\n",
        "![tanh.png](data:image/png;base64,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)"
      ]
    },
    {
      "cell_type": "code",
      "metadata": {
        "id": "6C2g_LKRhfSX"
      },
      "source": [
        "#Implementation of tanH Activation Function\n",
        "def tanh(x):\n",
        "    return (np.exp(x)-np.exp(-x))/(np.exp(x)+np.exp(-x))\n",
        "    "
      ],
      "execution_count": 14,
      "outputs": []
    },
    {
      "cell_type": "code",
      "metadata": {
        "colab": {
          "base_uri": "https://localhost:8080/"
        },
        "id": "J0V_A7HshfSX",
        "outputId": "4755d5be-2f6b-4924-880d-596651b1e15e"
      },
      "source": [
        "print(\"\\n Roll No: 20MAI0026\")\n",
        "print(\"\\n********************\\n\")\n",
        "\n",
        "#Demonstrating the outputs of the Activation Function\n",
        "x = np.linspace(-50, 10, 50)\n",
        "for i in range(x.shape[0]):\n",
        " y[i]=tanh(x[i])\n",
        " print('Applying TanH Activation on (%.1f) gives %.1f' % (x[i], y[i]))"
      ],
      "execution_count": 15,
      "outputs": [
        {
          "output_type": "stream",
          "text": [
            "\n",
            " Roll No: 20MAI0026\n",
            "\n",
            "********************\n",
            "\n",
            "Applying TanH Activation on (-50.0) gives -1.0\n",
            "Applying TanH Activation on (-48.8) gives -1.0\n",
            "Applying TanH Activation on (-47.6) gives -1.0\n",
            "Applying TanH Activation on (-46.3) gives -1.0\n",
            "Applying TanH Activation on (-45.1) gives -1.0\n",
            "Applying TanH Activation on (-43.9) gives -1.0\n",
            "Applying TanH Activation on (-42.7) gives -1.0\n",
            "Applying TanH Activation on (-41.4) gives -1.0\n",
            "Applying TanH Activation on (-40.2) gives -1.0\n",
            "Applying TanH Activation on (-39.0) gives -1.0\n",
            "Applying TanH Activation on (-37.8) gives -1.0\n",
            "Applying TanH Activation on (-36.5) gives -1.0\n",
            "Applying TanH Activation on (-35.3) gives -1.0\n",
            "Applying TanH Activation on (-34.1) gives -1.0\n",
            "Applying TanH Activation on (-32.9) gives -1.0\n",
            "Applying TanH Activation on (-31.6) gives -1.0\n",
            "Applying TanH Activation on (-30.4) gives -1.0\n",
            "Applying TanH Activation on (-29.2) gives -1.0\n",
            "Applying TanH Activation on (-28.0) gives -1.0\n",
            "Applying TanH Activation on (-26.7) gives -1.0\n",
            "Applying TanH Activation on (-25.5) gives -1.0\n",
            "Applying TanH Activation on (-24.3) gives -1.0\n",
            "Applying TanH Activation on (-23.1) gives -1.0\n",
            "Applying TanH Activation on (-21.8) gives -1.0\n",
            "Applying TanH Activation on (-20.6) gives -1.0\n",
            "Applying TanH Activation on (-19.4) gives -1.0\n",
            "Applying TanH Activation on (-18.2) gives -1.0\n",
            "Applying TanH Activation on (-16.9) gives -1.0\n",
            "Applying TanH Activation on (-15.7) gives -1.0\n",
            "Applying TanH Activation on (-14.5) gives -1.0\n",
            "Applying TanH Activation on (-13.3) gives -1.0\n",
            "Applying TanH Activation on (-12.0) gives -1.0\n",
            "Applying TanH Activation on (-10.8) gives -1.0\n",
            "Applying TanH Activation on (-9.6) gives -1.0\n",
            "Applying TanH Activation on (-8.4) gives -1.0\n",
            "Applying TanH Activation on (-7.1) gives -1.0\n",
            "Applying TanH Activation on (-5.9) gives -1.0\n",
            "Applying TanH Activation on (-4.7) gives -1.0\n",
            "Applying TanH Activation on (-3.5) gives -1.0\n",
            "Applying TanH Activation on (-2.2) gives -1.0\n",
            "Applying TanH Activation on (-1.0) gives -0.8\n",
            "Applying TanH Activation on (0.2) gives 0.2\n",
            "Applying TanH Activation on (1.4) gives 0.9\n",
            "Applying TanH Activation on (2.7) gives 1.0\n",
            "Applying TanH Activation on (3.9) gives 1.0\n",
            "Applying TanH Activation on (5.1) gives 1.0\n",
            "Applying TanH Activation on (6.3) gives 1.0\n",
            "Applying TanH Activation on (7.6) gives 1.0\n",
            "Applying TanH Activation on (8.8) gives 1.0\n",
            "Applying TanH Activation on (10.0) gives 1.0\n"
          ],
          "name": "stdout"
        }
      ]
    },
    {
      "cell_type": "code",
      "metadata": {
        "colab": {
          "base_uri": "https://localhost:8080/",
          "height": 360
        },
        "id": "OQ7DWS0nhfSY",
        "outputId": "39bb0010-07d0-4600-ad55-79248d0558b9"
      },
      "source": [
        "print(\"\\n Roll No: 20MAI0026\")\n",
        "print(\"\\n********************\\n\")\n",
        "\n",
        "#Plotting tanh activation \n",
        "plt.xlabel(\"x\") \n",
        "plt.ylabel(\"Tanh(x)\") \n",
        "plt.plot(x,y)\n",
        "plt.show()"
      ],
      "execution_count": 16,
      "outputs": [
        {
          "output_type": "stream",
          "text": [
            "\n",
            " Roll No: 20MAI0026\n",
            "\n",
            "********************\n",
            "\n"
          ],
          "name": "stdout"
        },
        {
          "output_type": "display_data",
          "data": {
            "image/png": "[encoded data removed]",
            "text/plain": [
              "<Figure size 432x288 with 1 Axes>"
            ]
          },
          "metadata": {
            "tags": [],
            "needs_background": "light"
          }
        }
      ]
    },
    {
      "cell_type": "markdown",
      "metadata": {
        "id": "MjMC7wUUkfDx"
      },
      "source": [
        "\n",
        "\n",
        "---\n",
        "\n"
      ]
    }
  ]
}