{
  "nbformat": 4,
  "nbformat_minor": 0,
  "metadata": {
    "colab": {
      "name": "CNN_Implementation_20MAI0026.ipynb",
      "provenance": [],
      "collapsed_sections": [],
      "authorship_tag": "ABX9TyPTk3DUcak6v0OVVWfl/YNt",
      "include_colab_link": true
    },
    "kernelspec": {
      "name": "python3",
      "display_name": "Python 3"
    },
    "language_info": {
      "name": "python"
    }
  },
  "cells": [
    {
      "cell_type": "markdown",
      "metadata": {
        "id": "view-in-github",
        "colab_type": "text"
      },
      "source": [
        "<a href=\"https://colab.research.google.com/github/Jency07/Deep-learning-lab/blob/main/CNN_Implementation_20MAI0026.ipynb\" target=\"_parent\"><img src=\"https://colab.research.google.com/assets/colab-badge.svg\" alt=\"Open In Colab\"/></a>"
      ]
    },
    {
      "cell_type": "markdown",
      "metadata": {
        "id": "E3adfgRfxfjA"
      },
      "source": [
        "# ***ACTIVITY 2 - CNN Implementation***"
      ]
    },
    {
      "cell_type": "markdown",
      "metadata": {
        "id": "3PTCArtCxfly"
      },
      "source": [
        "## **1. Importing libraries**"
      ]
    },
    {
      "cell_type": "code",
      "metadata": {
        "id": "u0RCEGuy0yRx"
      },
      "source": [
        "import keras\n",
        "from keras.models import Sequential\n",
        "from keras.layers import Dense, Activation, Dropout, Flatten, Conv2D, AveragePooling2D,ZeroPadding2D\n",
        "from keras.layers.normalization import BatchNormalization\n",
        "import matplotlib.pyplot as plt\n",
        "import numpy as np\n",
        "import pandas as pd\n",
        "from sklearn.metrics import confusion_matrix, classification_report"
      ],
      "execution_count": null,
      "outputs": []
    },
    {
      "cell_type": "markdown",
      "metadata": {
        "id": "hDP9NXzY1R2a"
      },
      "source": [
        "## **2. CNN Model Creation**"
      ]
    },
    {
      "cell_type": "code",
      "metadata": {
        "id": "AxAWudImqahz",
        "colab": {
          "base_uri": "https://localhost:8080/"
        },
        "outputId": "359cc13c-c6dd-4933-c0a8-637fae68a7f3"
      },
      "source": [
        "print(\"Roll No: 20MAI0026\")\n",
        "print(\"*****************************\")\n",
        "print(\"\\n\")\n",
        "\n",
        "np.random.seed(1000)\n",
        "\n",
        "#Instantiation\n",
        "model = Sequential()\n",
        "\n",
        "\n",
        "\n",
        "#1st Convolutional Layer\n",
        "model.add(ZeroPadding2D(input_shape=(28,28,1),padding=(2,2)))\n",
        "model.add(Conv2D(filters=6,kernel_size=(5,5), strides=(1,1),padding='valid'))\n",
        "model.add(AveragePooling2D())\n",
        "\n",
        "#2nd Convolutional Layer\n",
        "model.add(Conv2D(filters=16,kernel_size=(5,5), strides=(1,1)))\n",
        "model.add(AveragePooling2D())\n",
        "\n",
        "#Passing it to a Fully Connected layer\n",
        "model.add(Flatten())\n",
        "# 1st Fully Connected Layer\n",
        "model.add(Dense(120, input_shape=(5,5,16,)))\n",
        "# 2nd Fully Connected Layer\n",
        "model.add(Dense(84,activation='relu'))\n",
        "\n",
        "#Output Layer\n",
        "model.add(Dense(10,activation='softmax'))\n",
        "\n",
        "#Model Summary\n",
        "model.summary()"
      ],
      "execution_count": null,
      "outputs": [
        {
          "output_type": "stream",
          "text": [
            "Roll No: 20MAI0026\n",
            "*****************************\n",
            "\n",
            "\n",
            "Model: \"sequential_43\"\n",
            "_________________________________________________________________\n",
            "Layer (type)                 Output Shape              Param #   \n",
            "=================================================================\n",
            "zero_padding2d_11 (ZeroPaddi (None, 32, 32, 1)         0         \n",
            "_________________________________________________________________\n",
            "conv2d_76 (Conv2D)           (None, 28, 28, 6)         156       \n",
            "_________________________________________________________________\n",
            "average_pooling2d_57 (Averag (None, 14, 14, 6)         0         \n",
            "_________________________________________________________________\n",
            "conv2d_77 (Conv2D)           (None, 10, 10, 16)        2416      \n",
            "_________________________________________________________________\n",
            "average_pooling2d_58 (Averag (None, 5, 5, 16)          0         \n",
            "_________________________________________________________________\n",
            "flatten_27 (Flatten)         (None, 400)               0         \n",
            "_________________________________________________________________\n",
            "dense_73 (Dense)             (None, 120)               48120     \n",
            "_________________________________________________________________\n",
            "dense_74 (Dense)             (None, 84)                10164     \n",
            "_________________________________________________________________\n",
            "dense_75 (Dense)             (None, 10)                850       \n",
            "=================================================================\n",
            "Total params: 61,706\n",
            "Trainable params: 61,706\n",
            "Non-trainable params: 0\n",
            "_________________________________________________________________\n"
          ],
          "name": "stdout"
        }
      ]
    },
    {
      "cell_type": "markdown",
      "metadata": {
        "id": "j4LflJ9Eu91i"
      },
      "source": [
        "## **3. Compiling the model**"
      ]
    },
    {
      "cell_type": "code",
      "metadata": {
        "id": "ejIfHenju91u"
      },
      "source": [
        "# Compiling the model\n",
        "model.compile(loss = keras.losses.categorical_crossentropy, optimizer= 'adam', metrics=['accuracy'])"
      ],
      "execution_count": null,
      "outputs": []
    },
    {
      "cell_type": "markdown",
      "metadata": {
        "id": "_zuOA3EK2S7L"
      },
      "source": [
        "## **4. Loading the dataset**"
      ]
    },
    {
      "cell_type": "code",
      "metadata": {
        "id": "kh6sBiZuzCqQ"
      },
      "source": [
        "from keras.datasets import mnist\n",
        "\n",
        "# loading the dataset\n",
        "(X_train, y_train), (X_test, y_test) = mnist.load_data()"
      ],
      "execution_count": null,
      "outputs": []
    },
    {
      "cell_type": "code",
      "metadata": {
        "colab": {
          "base_uri": "https://localhost:8080/",
          "height": 272
        },
        "id": "MUMRiSrh5U4x",
        "outputId": "d7c22042-3153-408b-dbc7-6336b38cfffd"
      },
      "source": [
        "# Displays 10 sample input images\n",
        "\n",
        "print(\"Roll No: 20MAI0026\")\n",
        "print(\"*****************************\")\n",
        "print(\"\\n\")\n",
        "\n",
        "for i in range(10):\n",
        "# define subplot\n",
        "  plt.subplot(4,4,i+1)\n",
        "# plot raw pixel data\n",
        "  plt.imshow(X_train[i])\n",
        "  plt.title(str(y_train[i]))\n",
        "  plt.axis('off')\n",
        "\n",
        "# show the figure\n",
        "\n",
        "plt.show()"
      ],
      "execution_count": null,
      "outputs": [
        {
          "output_type": "stream",
          "text": [
            "Roll No: 20MAI0026\n",
            "*****************************\n",
            "\n",
            "\n"
          ],
          "name": "stdout"
        },
        {
          "output_type": "display_data",
          "data": {
            "image/png": "[encoded data removed]",
            "text/plain": [
              "<Figure size 432x288 with 10 Axes>"
            ]
          },
          "metadata": {
            "tags": [],
            "needs_background": "light"
          }
        }
      ]
    },
    {
      "cell_type": "markdown",
      "metadata": {
        "id": "LOK5nk88aw1U"
      },
      "source": [
        "## **5. Train Test Split**"
      ]
    },
    {
      "cell_type": "code",
      "metadata": {
        "id": "3V8MVFxy1cAp"
      },
      "source": [
        "#Train-validation-test split\n",
        "from sklearn.model_selection import train_test_split\n",
        "X_train,X_val,y_train,y_val=train_test_split(X_train,y_train,test_size=0.1)"
      ],
      "execution_count": null,
      "outputs": []
    },
    {
      "cell_type": "markdown",
      "metadata": {
        "id": "M7OfcYHPa4Eh"
      },
      "source": [
        "## **6. Feature Engineering**"
      ]
    },
    {
      "cell_type": "code",
      "metadata": {
        "id": "CwQW3r5r01Rq"
      },
      "source": [
        "#Onehot Encoding the labels.\n",
        "from sklearn.utils.multiclass import unique_labels\n",
        "from keras.utils import to_categorical\n",
        "X_train = X_train.reshape(X_train.shape[0], 28, 28, 1)\n",
        "X_test = X_test.reshape(X_test.shape[0], 28, 28, 1)\n",
        "X_val = X_val.reshape(X_val.shape[0], 28, 28, 1)\n",
        "X_train = X_train.astype('float32')\n",
        "X_test = X_test.astype('float32')\n",
        "X_val = X_val.astype('float32')\n",
        "\n",
        "# normalizing the data to help with the training\n",
        "X_train /= 255\n",
        "X_test /= 255\n",
        "X_val /= 255\n",
        "\n",
        "#Since we have 10 classes we should expect the shape[1] of y_train,y_val and y_test to change from 1 to 10\n",
        "y_train=to_categorical(y_train,10)\n",
        "y_val=to_categorical(y_val,10)\n",
        "y_test=to_categorical(y_test,10)\n"
      ],
      "execution_count": null,
      "outputs": []
    },
    {
      "cell_type": "markdown",
      "metadata": {
        "id": "5C8Q4dWjw5YF"
      },
      "source": [
        "## **7. Training the model**"
      ]
    },
    {
      "cell_type": "code",
      "metadata": {
        "colab": {
          "base_uri": "https://localhost:8080/"
        },
        "id": "yMIiP8vU0TJa",
        "outputId": "a6e568b3-7f26-44e4-e622-43cdd4351325"
      },
      "source": [
        "print(\"Roll No: 20MAI0026\")\n",
        "print(\"*****************************\")\n",
        "print(\"\\n\")\n",
        "#Dataset details\n",
        "print(\"Total number of images in database\", X_train.shape[0]+X_val.shape[0]+X_test.shape[0])\n",
        "print(\"Total number of images in training dataset\", X_train.shape[0])\n",
        "print(\"Total number of images in validation dataset\", X_val.shape[0])\n",
        "print(\"Total number of images in testing dataset\", X_test.shape[0])\n",
        "print(\"Size of image \"+str(X_train.shape[1])+\"*\"+str(X_train.shape[2])+\"*\"+str(X_train.shape[3]))\n",
        "print(\"Number of classes \"+str(y_train.shape[1]))"
      ],
      "execution_count": null,
      "outputs": [
        {
          "output_type": "stream",
          "text": [
            "Roll No: 20MAI0026\n",
            "*****************************\n",
            "\n",
            "\n",
            "Total number of images in database 70000\n",
            "Total number of images in training dataset 54000\n",
            "Total number of images in validation dataset 6000\n",
            "Total number of images in testing dataset 10000\n",
            "Size of image 28*28*1\n",
            "Number of classes 10\n"
          ],
          "name": "stdout"
        }
      ]
    },
    {
      "cell_type": "code",
      "metadata": {
        "colab": {
          "base_uri": "https://localhost:8080/"
        },
        "id": "SiLA7KKt1RMi",
        "outputId": "3d86d684-dca6-4ea1-c009-c51f50ddade8"
      },
      "source": [
        "# training the model for 10 epochs\n",
        "model.fit(X_train, y_train, batch_size=128, epochs=10, validation_data=(X_val, y_val))"
      ],
      "execution_count": null,
      "outputs": [
        {
          "output_type": "stream",
          "text": [
            "Epoch 1/10\n",
            "422/422 [==============================] - 24s 55ms/step - loss: 0.6790 - accuracy: 0.7960 - val_loss: 0.2146 - val_accuracy: 0.9363\n",
            "Epoch 2/10\n",
            "422/422 [==============================] - 23s 54ms/step - loss: 0.1841 - accuracy: 0.9461 - val_loss: 0.1432 - val_accuracy: 0.9557\n",
            "Epoch 3/10\n",
            "422/422 [==============================] - 23s 54ms/step - loss: 0.1363 - accuracy: 0.9592 - val_loss: 0.1279 - val_accuracy: 0.9607\n",
            "Epoch 4/10\n",
            "422/422 [==============================] - 23s 54ms/step - loss: 0.1063 - accuracy: 0.9676 - val_loss: 0.1081 - val_accuracy: 0.9680\n",
            "Epoch 5/10\n",
            "422/422 [==============================] - 23s 54ms/step - loss: 0.0959 - accuracy: 0.9703 - val_loss: 0.1066 - val_accuracy: 0.9670\n",
            "Epoch 6/10\n",
            "422/422 [==============================] - 23s 54ms/step - loss: 0.0849 - accuracy: 0.9737 - val_loss: 0.1013 - val_accuracy: 0.9687\n",
            "Epoch 7/10\n",
            "422/422 [==============================] - 23s 54ms/step - loss: 0.0735 - accuracy: 0.9761 - val_loss: 0.1026 - val_accuracy: 0.9695\n",
            "Epoch 8/10\n",
            "422/422 [==============================] - 23s 54ms/step - loss: 0.0702 - accuracy: 0.9781 - val_loss: 0.0889 - val_accuracy: 0.9743\n",
            "Epoch 9/10\n",
            "422/422 [==============================] - 23s 55ms/step - loss: 0.0636 - accuracy: 0.9797 - val_loss: 0.0926 - val_accuracy: 0.9712\n",
            "Epoch 10/10\n",
            "422/422 [==============================] - 23s 54ms/step - loss: 0.0603 - accuracy: 0.9815 - val_loss: 0.0978 - val_accuracy: 0.9708\n"
          ],
          "name": "stdout"
        },
        {
          "output_type": "execute_result",
          "data": {
            "text/plain": [
              "<tensorflow.python.keras.callbacks.History at 0x7fb56997b750>"
            ]
          },
          "metadata": {
            "tags": []
          },
          "execution_count": 115
        }
      ]
    },
    {
      "cell_type": "markdown",
      "metadata": {
        "id": "KGuUS8TER_82"
      },
      "source": [
        "## **8. Testing the model**"
      ]
    },
    {
      "cell_type": "code",
      "metadata": {
        "colab": {
          "base_uri": "https://localhost:8080/"
        },
        "id": "YdkpQbBRMZA-",
        "outputId": "e5023b14-0629-4a1d-f3b4-e6f4f28a3e65"
      },
      "source": [
        "#Making prediction\n",
        "y_pred=model.predict_classes(X_test)\n",
        "y_true=np.argmax(y_test,axis=1)"
      ],
      "execution_count": null,
      "outputs": [
        {
          "output_type": "stream",
          "text": [
            "/usr/local/lib/python3.7/dist-packages/tensorflow/python/keras/engine/sequential.py:450: UserWarning: `model.predict_classes()` is deprecated and will be removed after 2021-01-01. Please use instead:* `np.argmax(model.predict(x), axis=-1)`,   if your model does multi-class classification   (e.g. if it uses a `softmax` last-layer activation).* `(model.predict(x) > 0.5).astype(\"int32\")`,   if your model does binary classification   (e.g. if it uses a `sigmoid` last-layer activation).\n",
            "  warnings.warn('`model.predict_classes()` is deprecated and '\n"
          ],
          "name": "stderr"
        }
      ]
    },
    {
      "cell_type": "code",
      "metadata": {
        "colab": {
          "base_uri": "https://localhost:8080/",
          "height": 328
        },
        "id": "gNKB8gKURv5V",
        "outputId": "061be0c6-286b-405c-c5ac-c215ac1880a8"
      },
      "source": [
        "#Display few test images and predictions\n",
        "\n",
        "print(\"Roll No: 20MAI0026\")\n",
        "print(\"*****************************\")\n",
        "print(\"\\n\")\n",
        "\n",
        "for i in range(10):\n",
        "# define subplot\n",
        "  plt.subplot(5,2,i+1)\n",
        "# plot raw pixel data\n",
        "  plt.imshow(X_test[i].reshape(X_test[i].shape[0], 28))\n",
        "  plt.title(\"Actual: \"+ str(y_true[i])+\" Predicted:\" + str(y_pred[i]))\n",
        "  plt.axis('off')\n",
        "\n",
        "# show the figure\n",
        "\n",
        "plt.show()"
      ],
      "execution_count": null,
      "outputs": [
        {
          "output_type": "stream",
          "text": [
            "Roll No: 20MAI0026\n",
            "*****************************\n",
            "\n",
            "\n"
          ],
          "name": "stdout"
        },
        {
          "output_type": "display_data",
          "data": {
            "image/png": "[encoded data removed]",
            "text/plain": [
              "<Figure size 432x288 with 10 Axes>"
            ]
          },
          "metadata": {
            "tags": [],
            "needs_background": "light"
          }
        }
      ]
    },
    {
      "cell_type": "markdown",
      "metadata": {
        "id": "HwIVt7qodRqX"
      },
      "source": [
        "## ***9. Evaluation Metrics***"
      ]
    },
    {
      "cell_type": "markdown",
      "metadata": {
        "id": "-eBuLUGxcOvA"
      },
      "source": [
        "### ***Confusion Matrix***"
      ]
    },
    {
      "cell_type": "code",
      "metadata": {
        "id": "oaU28zK9MMAB"
      },
      "source": [
        "#Defining function for confusion matrix plot\n",
        "def plot_confusion_matrix(y_true, y_pred, classes,\n",
        "                          normalize=False,\n",
        "                          title=None,\n",
        "                          cmap=plt.cm.Blues):\n",
        "    if not title:\n",
        "        if normalize:\n",
        "            title = 'Normalized confusion matrix'\n",
        "        else:\n",
        "            title = 'Confusion matrix, without normalization'\n",
        "\n",
        "    # Compute confusion matrix\n",
        "    cm = confusion_matrix(y_true, y_pred)\n",
        "    if normalize:\n",
        "        cm = cm.astype('float') / cm.sum(axis=1)[:, np.newaxis]\n",
        "        print(\"Normalized confusion matrix\")\n",
        "    else:\n",
        "        print('Confusion matrix, without normalization')\n",
        "\n",
        "#Print Confusion matrix\n",
        "    fig, ax = plt.subplots(figsize=(7,7))\n",
        "    im = ax.imshow(cm, interpolation='nearest', cmap=cmap)\n",
        "    ax.figure.colorbar(im, ax=ax)\n",
        "    # We want to show all ticks...\n",
        "    ax.set(xticks=np.arange(cm.shape[1]),\n",
        "           yticks=np.arange(cm.shape[0]),\n",
        "           xticklabels=classes, yticklabels=classes,\n",
        "           title=title,\n",
        "           ylabel='True label',\n",
        "           xlabel='Predicted label')\n",
        "\n",
        "    # Rotate the tick labels and set their alignment.\n",
        "    plt.setp(ax.get_xticklabels(), rotation=45, ha=\"right\",\n",
        "             rotation_mode=\"anchor\")\n",
        "    # Loop over data dimensions and create text annotations.\n",
        "    fmt = '.2f' if normalize else 'd'\n",
        "    thresh = cm.max() / 2.\n",
        "    for i in range(cm.shape[0]):\n",
        "        for j in range(cm.shape[1]):\n",
        "            ax.text(j, i, format(cm[i, j], fmt),\n",
        "                    ha=\"center\", va=\"center\",\n",
        "                    color=\"white\" if cm[i, j] > thresh else \"black\")\n",
        "    fig.tight_layout()\n",
        "    return ax\n",
        "\n",
        "np.set_printoptions(precision=2)"
      ],
      "execution_count": null,
      "outputs": []
    },
    {
      "cell_type": "code",
      "metadata": {
        "colab": {
          "base_uri": "https://localhost:8080/",
          "height": 610
        },
        "id": "q01ALRr6NHD1",
        "outputId": "59f6c690-a4ec-42d1-900d-0a12ba3479c5"
      },
      "source": [
        "#Plotting the confusion matrix\n",
        "from sklearn.metrics import confusion_matrix\n",
        "\n",
        "print(\"Roll No: 20MAI0026\")\n",
        "print(\"*****************************\")\n",
        "print(\"\\n\")\n",
        "\n",
        "class_names=['0', '1', '2', '3', '4', '5', '6', '7', '8', '9']\n",
        "\n",
        "# Plotting non-normalized confusion matrix\n",
        "plot_confusion_matrix(y_true, y_pred, classes = class_names,title = 'Confusion matrix')"
      ],
      "execution_count": null,
      "outputs": [
        {
          "output_type": "stream",
          "text": [
            "Roll No: 20MAI0026\n",
            "*****************************\n",
            "\n",
            "\n",
            "Confusion matrix, without normalization\n"
          ],
          "name": "stdout"
        },
        {
          "output_type": "execute_result",
          "data": {
            "text/plain": [
              "<matplotlib.axes._subplots.AxesSubplot at 0x7fb56cd05510>"
            ]
          },
          "metadata": {
            "tags": []
          },
          "execution_count": 122
        },
        {
          "output_type": "display_data",
          "data": {
            "image/png": "[encoded data removed]",
            "text/plain": [
              "<Figure size 504x504 with 2 Axes>"
            ]
          },
          "metadata": {
            "tags": [],
            "needs_background": "light"
          }
        }
      ]
    },
    {
      "cell_type": "markdown",
      "metadata": {
        "id": "rQCXHwZkcYIr"
      },
      "source": [
        "### ***Classification report***"
      ]
    },
    {
      "cell_type": "code",
      "metadata": {
        "colab": {
          "base_uri": "https://localhost:8080/"
        },
        "id": "pQ4G3edpVAC4",
        "outputId": "9c36bb29-7a79-49dc-d72c-ebee51a0f35b"
      },
      "source": [
        "# Calculate Precision and Recall for each class\n",
        "\n",
        "print(\"Roll No: 20MAI0026\")\n",
        "print(\"*****************************\")\n",
        "print(\"\\n\")\n",
        "\n",
        "report = classification_report(y_true, y_pred)\n",
        "print(report)"
      ],
      "execution_count": null,
      "outputs": [
        {
          "output_type": "stream",
          "text": [
            "Roll No: 20MAI0026\n",
            "*****************************\n",
            "\n",
            "\n",
            "              precision    recall  f1-score   support\n",
            "\n",
            "           0       0.98      0.99      0.99       980\n",
            "           1       0.99      0.99      0.99      1135\n",
            "           2       0.98      0.97      0.97      1032\n",
            "           3       0.95      0.98      0.96      1010\n",
            "           4       0.98      0.97      0.98       982\n",
            "           5       0.97      0.97      0.97       892\n",
            "           6       0.99      0.97      0.98       958\n",
            "           7       0.96      0.97      0.97      1028\n",
            "           8       0.98      0.96      0.97       974\n",
            "           9       0.97      0.97      0.97      1009\n",
            "\n",
            "    accuracy                           0.98     10000\n",
            "   macro avg       0.98      0.97      0.98     10000\n",
            "weighted avg       0.98      0.98      0.98     10000\n",
            "\n"
          ],
          "name": "stdout"
        }
      ]
    },
    {
      "cell_type": "markdown",
      "metadata": {
        "id": "jZpSNkGIcboO"
      },
      "source": [
        "### ***Accuracy***"
      ]
    },
    {
      "cell_type": "code",
      "metadata": {
        "id": "7XASgadvxSFP",
        "colab": {
          "base_uri": "https://localhost:8080/"
        },
        "outputId": "51541aa3-4596-4491-b850-1a28c1b5bf40"
      },
      "source": [
        "#Classification accuracy\n",
        "from sklearn.metrics import accuracy_score\n",
        "\n",
        "print(\"Roll No: 20MAI0026\")\n",
        "print(\"*****************************\")\n",
        "print(\"\\n\")\n",
        "\n",
        "acc_score = accuracy_score(y_true, y_pred)\n",
        "print('Accuracy Score = ', acc_score)"
      ],
      "execution_count": null,
      "outputs": [
        {
          "output_type": "stream",
          "text": [
            "Roll No: 20MAI0026\n",
            "*****************************\n",
            "\n",
            "\n",
            "Accuracy Score =  0.9753\n"
          ],
          "name": "stdout"
        }
      ]
    }
  ]
}