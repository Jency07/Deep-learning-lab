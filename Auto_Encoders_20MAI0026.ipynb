{
  "nbformat": 4,
  "nbformat_minor": 0,
  "metadata": {
    "colab": {
      "name": "Auto-Encoders_20MAI0026.ipynb",
      "provenance": [],
      "collapsed_sections": [],
      "authorship_tag": "ABX9TyOwDf7bVdf/8TagRKj8b2fy",
      "include_colab_link": true
    },
    "kernelspec": {
      "name": "python3",
      "display_name": "Python 3"
    },
    "language_info": {
      "name": "python"
    }
  },
  "cells": [
    {
      "cell_type": "markdown",
      "metadata": {
        "id": "view-in-github",
        "colab_type": "text"
      },
      "source": [
        "<a href=\"https://colab.research.google.com/github/Jency07/Deep-learning-lab/blob/main/Auto_Encoders_20MAI0026.ipynb\" target=\"_parent\"><img src=\"https://colab.research.google.com/assets/colab-badge.svg\" alt=\"Open In Colab\"/></a>"
      ]
    },
    {
      "cell_type": "markdown",
      "metadata": {
        "id": "G_EIGpEUcz7H"
      },
      "source": [
        "\n",
        "\n",
        "***Name:*** *Jency Infancia Mary J*\n",
        "\n",
        "***Roll No:*** *20MAI0026*\n",
        "\n",
        "***Experiments:***\n",
        "\n",
        "**[Activity 1: ](https://github.com/Jency07/Deep-learning-lab/blob/main/Auto-Encoders_20MAI0026.ipynb)** *Auto-Encoders Implementation*\n",
        "\n",
        "\n",
        "\n",
        "\n",
        "\n",
        "\n",
        "\n",
        "\n",
        "\n",
        "\n",
        "\n",
        "\n",
        "\n",
        "\n",
        "\n",
        "\n",
        "\n"
      ]
    },
    {
      "cell_type": "markdown",
      "metadata": {
        "id": "4qtAnUK9l8TH"
      },
      "source": [
        "### **1.Auto-Encoders Implementation**"
      ]
    },
    {
      "cell_type": "markdown",
      "metadata": {
        "id": "kT7wJ7pX13Mo"
      },
      "source": [
        "***1.Importing Libraries***"
      ]
    },
    {
      "cell_type": "code",
      "metadata": {
        "id": "4Sz11CbNyyrA"
      },
      "source": [
        "#import packages\n",
        "import keras\n",
        "import numpy as np\n",
        "import pandas as pd\n",
        "import matplotlib.pyplot as plt\n",
        "%matplotlib inline\n",
        "\n",
        "from keras.datasets import mnist\n",
        "from keras.models import Model\n",
        "from keras.layers import Input, add, Layer\n",
        "from keras.layers.core import Dense, Dropout, Activation, Flatten, Reshape\n",
        "from keras import regularizers\n",
        "from keras.regularizers import l2\n",
        "from keras.layers.convolutional import Conv2D, MaxPooling2D, UpSampling2D, ZeroPadding2D\n",
        "from keras.utils import np_utils"
      ],
      "execution_count": 13,
      "outputs": []
    },
    {
      "cell_type": "markdown",
      "metadata": {
        "id": "Zw3N8a3GeYf3"
      },
      "source": [
        "***2.Loading Dataset***"
      ]
    },
    {
      "cell_type": "code",
      "metadata": {
        "id": "7D5OsRsDb_yT"
      },
      "source": [
        "(X_train, _), (X_test, _) = mnist.load_data()\n",
        "\n",
        "X_train = X_train.reshape(X_train.shape[0], 28, 28, 1)\n",
        "X_test = X_test.reshape(X_test.shape[0], 28, 28, 1)\n",
        "\n"
      ],
      "execution_count": 21,
      "outputs": []
    },
    {
      "cell_type": "markdown",
      "metadata": {
        "id": "z_K7tzuhz47n"
      },
      "source": [
        "***3.Normalizing Data***"
      ]
    },
    {
      "cell_type": "code",
      "metadata": {
        "colab": {
          "base_uri": "https://localhost:8080/"
        },
        "id": "bexo_MrqzRLP",
        "outputId": "86e0c142-dc71-4341-ff6c-b8baca6a18cc"
      },
      "source": [
        "print(\"20MAI0026\")\n",
        "print(\"\\n\")\n",
        "X_train = X_train.astype(\"float32\")/255.\n",
        "X_test = X_test.astype(\"float32\")/255.\n",
        "\n",
        "print('X_train shape:', X_train.shape)\n",
        "print(X_train.shape[0], 'train samples')\n",
        "print(X_test.shape[0], 'test samples')"
      ],
      "execution_count": 22,
      "outputs": [
        {
          "output_type": "stream",
          "text": [
            "20MAI0026\n",
            "\n",
            "\n",
            "X_train shape: (60000, 28, 28, 1)\n",
            "60000 train samples\n",
            "10000 test samples\n"
          ],
          "name": "stdout"
        }
      ]
    },
    {
      "cell_type": "code",
      "metadata": {
        "id": "tyySmvpWzROQ"
      },
      "source": [
        "X_train = X_train.reshape((len(X_train), np.prod(X_train.shape[1:])))\n",
        "X_test = X_test.reshape((len(X_test), np.prod(X_test.shape[1:])))"
      ],
      "execution_count": 23,
      "outputs": []
    },
    {
      "cell_type": "markdown",
      "metadata": {
        "id": "hhvf2Ma80U5H"
      },
      "source": [
        "***4.Creating network***"
      ]
    },
    {
      "cell_type": "code",
      "metadata": {
        "id": "ACaktfyFzRWf"
      },
      "source": [
        "input_size = 784\n",
        "hidden_size = 64\n",
        "output_size = 784"
      ],
      "execution_count": 24,
      "outputs": []
    },
    {
      "cell_type": "code",
      "metadata": {
        "id": "pwrPg0v9zf6a"
      },
      "source": [
        "x = Input(shape=(input_size,))\n",
        "h = Dense(hidden_size, activation='relu')(x)\n",
        "r = Dense(output_size, activation='sigmoid')(h)\n",
        "\n",
        "autoencoder = Model(inputs=x, outputs=r)\n",
        "autoencoder.compile(optimizer='adam', loss='mse')"
      ],
      "execution_count": 25,
      "outputs": []
    },
    {
      "cell_type": "markdown",
      "metadata": {
        "id": "BgCJ18hH0a70"
      },
      "source": [
        "***5.Training Model***"
      ]
    },
    {
      "cell_type": "code",
      "metadata": {
        "colab": {
          "base_uri": "https://localhost:8080/"
        },
        "id": "vPI1gZqMzgAc",
        "outputId": "2d9b24ee-305a-4e9e-b34a-c91b6fea07ea"
      },
      "source": [
        "iepochs = 5\n",
        "batch_size = 128\n",
        "print(\"20MAI0026\")\n",
        "print(\"\\n\")\n",
        "history = autoencoder.fit(X_train, X_train, batch_size=batch_size, epochs=epochs, verbose=1, validation_data=(X_test, X_test))"
      ],
      "execution_count": 26,
      "outputs": [
        {
          "output_type": "stream",
          "text": [
            "20MAI0026\n",
            "\n",
            "\n",
            "Epoch 1/5\n",
            "469/469 [==============================] - 2s 5ms/step - loss: 0.0751 - val_loss: 0.0222\n",
            "Epoch 2/5\n",
            "469/469 [==============================] - 2s 4ms/step - loss: 0.0197 - val_loss: 0.0127\n",
            "Epoch 3/5\n",
            "469/469 [==============================] - 2s 4ms/step - loss: 0.0118 - val_loss: 0.0087\n",
            "Epoch 4/5\n",
            "469/469 [==============================] - 2s 4ms/step - loss: 0.0083 - val_loss: 0.0066\n",
            "Epoch 5/5\n",
            "469/469 [==============================] - 2s 4ms/step - loss: 0.0064 - val_loss: 0.0055\n"
          ],
          "name": "stdout"
        }
      ]
    },
    {
      "cell_type": "markdown",
      "metadata": {
        "id": "OPZhN9Hn0ogY"
      },
      "source": [
        "***6.Testing Model***"
      ]
    },
    {
      "cell_type": "code",
      "metadata": {
        "id": "T1d2cRPDzjeS"
      },
      "source": [
        "decoded_imgs = autoencoder.predict(X_test)"
      ],
      "execution_count": 27,
      "outputs": []
    },
    {
      "cell_type": "markdown",
      "metadata": {
        "id": "v3TnhQs-0yPS"
      },
      "source": [
        "***7.Model Output***"
      ]
    },
    {
      "cell_type": "code",
      "metadata": {
        "colab": {
          "base_uri": "https://localhost:8080/",
          "height": 360
        },
        "id": "TmRgbI2BzsVw",
        "outputId": "508b4ca6-ead7-4ff8-f84a-926351a44ebe"
      },
      "source": [
        "print(\"20MAI0026\")\n",
        "print(\"\\n\")\n",
        "\n",
        "print(history.history.keys())\n",
        "\n",
        "plt.plot(history.history['loss'])\n",
        "plt.plot(history.history['val_loss'])\n",
        "plt.title('model loss')\n",
        "plt.ylabel('loss')\n",
        "plt.xlabel('epoch')\n",
        "plt.legend(['train', 'validation'], loc='upper right')\n",
        "plt.show()"
      ],
      "execution_count": 28,
      "outputs": [
        {
          "output_type": "stream",
          "text": [
            "20MAI0026\n",
            "\n",
            "\n",
            "dict_keys(['loss', 'val_loss'])\n"
          ],
          "name": "stdout"
        },
        {
          "output_type": "display_data",
          "data": {
            "image/png": "[encoded data removed]",
            "text/plain": [
              "<Figure size 432x288 with 1 Axes>"
            ]
          },
          "metadata": {
            "tags": [],
            "needs_background": "light"
          }
        }
      ]
    }
  ]
}