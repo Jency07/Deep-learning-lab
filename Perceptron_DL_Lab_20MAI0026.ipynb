{
  "nbformat": 4,
  "nbformat_minor": 0,
  "metadata": {
    "colab": {
      "name": "Perceptron DL Lab_20MAI0026.ipynb",
      "provenance": [],
      "collapsed_sections": []
    },
    "kernelspec": {
      "name": "python3",
      "display_name": "Python 3"
    }
  },
  "cells": [
    {
      "cell_type": "markdown",
      "metadata": {
        "id": "VaUjsCIWqPcK"
      },
      "source": [
        "***PERCEPTRON***"
      ]
    },
    {
      "cell_type": "markdown",
      "metadata": {
        "id": "95Y0XbmGs8ij"
      },
      "source": [
        "***1. Importing Libraries:***"
      ]
    },
    {
      "cell_type": "code",
      "metadata": {
        "id": "sctfHGrZohFh"
      },
      "source": [
        "import numpy as np\n",
        "import pandas as pd\n",
        "from sklearn.model_selection import train_test_split\n",
        "from sklearn.metrics import confusion_matrix"
      ],
      "execution_count": null,
      "outputs": []
    },
    {
      "cell_type": "markdown",
      "metadata": {
        "id": "a5EtlnfesdaO"
      },
      "source": [
        "***2. Single Layer Perceptron Algorithm Implementation***"
      ]
    },
    {
      "cell_type": "code",
      "metadata": {
        "id": "ZMyZPs1zsr1l"
      },
      "source": [
        "\n",
        "#Calculate the activaton function value\n",
        "def activationFunction(y_in, theta):\n",
        "  if y_in >theta:\n",
        "    activated_value = 1.0\n",
        "  else:\n",
        "    activated_value = -1.0\n",
        "  return activated_value\n",
        "\n",
        "#Predict the output value y for each datapoint\n",
        "def predictOutput(datapoint, weights, bias_value, theta):\n",
        "  weighted_inputs_sum=0.0\n",
        "  for i in range(len(weights)):\n",
        "    weighted_inputs_sum=weighted_inputs_sum+(datapoint[i]*weights[i])\n",
        "  y_in=bias_value+weighted_inputs_sum\n",
        "  print(\"Yin = %.2f\" %(y_in),end=\" \")\n",
        "  y=activationFunction(y_in,theta)\n",
        "  return y\n",
        "\n",
        "#Training to estimate the optimal weights and optimal bias using Hebb's rule in a perceptron\n",
        "def trainingModel(train_ds, learning_rate, bias_input, bias, theta, no_of_epochs):\n",
        "  w=[0.0 for i in range(len(train_ds[0])-1)]\n",
        "  print(\"\\n Roll No: 20MAI0026\")\n",
        "  print(\"\\n********************\")\n",
        "  print('\\nNo. of datapoints = %d' %(len(train_ds)))\n",
        "  print('\\nNo. of input features = %d' %(len(train_ds[0])-1)) \n",
        "  print('\\nLearning rate = %f' %(learning_rate))\n",
        "  print('\\nInitial Weights = ' +str(w))\n",
        "  print('\\nInitial Bias = ' +str(bias))\n",
        "  tot_epochs=no_of_epochs\n",
        "  for epoch in range(no_of_epochs):\n",
        "    finish=True\n",
        "    print('\\n------------------------------Epoch=%d-----------------------------' %epoch)\n",
        "    \n",
        "    for datapoint in train_ds:\n",
        "      for i in range(len(datapoint)-1):\n",
        "        print('X'+str(i)+'= %f' %(datapoint[i]),end=\" \")\n",
        "      act_output=predictOutput(datapoint,w,bias,theta)\n",
        "      \n",
        "      target_output=datapoint[len(datapoint)-1]\n",
        "      print(\"T = \"+str(int(target_output))+'\\t',end=\" \")\n",
        "      print(\"Y = \"+str(int(act_output))+'\\t',end=\" \")\n",
        "      \n",
        "      if int(act_output) != int(target_output):\n",
        "        finish=False\n",
        "        \n",
        "        for j in range(len(w)):\n",
        "          w[j]=w[j]+(learning_rate*target_output*datapoint[j])\n",
        "          print('W'+str(j)+'= %f\\t' %(w[j]),end=\" \")\n",
        "        \n",
        "        bias=bias+(learning_rate*target_output)\n",
        "        print('B = %f\\t' %(bias),end=\" \")\n",
        "      else:\n",
        "        for i in range(len(w)):\n",
        "          print('W'+str(i)+'= %f\\t' %(w[i]),end=\" \")\n",
        "        print('B = %f\\t' %(bias),end=\" \")\n",
        "      print(\"\\n\")\n",
        "    if finish==True:\n",
        "      tot_epochs=epoch+1\n",
        "      break\n",
        "  print('\\nTotal number of epochs = %d' %(tot_epochs))\n",
        "  return w,bias\n",
        "\n",
        "#Testing the perceptron model\n",
        "def testingModel(test_ds, weights, bias, learning_rate, theta):\n",
        "  print(\"\\n Roll No: 20MAI0026\")\n",
        "  print(\"\\n********************\")\n",
        "  w=weights\n",
        "  predicted=[]\n",
        "  print('\\nLearning rate = %f' %(learning_rate))\n",
        "  print('\\nTrained Weights = ' +str(w))\n",
        "  print('\\nTrained Bias = ' +str(bias))\n",
        "  for datapoint in test_ds:\n",
        "      for i in range(len(datapoint)-1):\n",
        "        print('X'+str(i)+'= %f' %(datapoint[i]),end=\" \")\n",
        "      act_output=predictOutput(datapoint,w,bias,theta)\n",
        "      predicted.append(act_output)\n",
        "      target_output=datapoint[len(datapoint)-1]\n",
        "      print(\"T = \"+str(int(target_output))+'\\t',end=\" \")\n",
        "      print(\"Y = \"+str(int(act_output))+'\\t',end=\" \")\n",
        "      print(\"\\n\")\n",
        "  return predicted"
      ],
      "execution_count": null,
      "outputs": []
    },
    {
      "cell_type": "markdown",
      "metadata": {
        "id": "kWka0VX0rwO6"
      },
      "source": [
        "***3. Dataset Creation:***"
      ]
    },
    {
      "cell_type": "code",
      "metadata": {
        "id": "gae9B5f5r4OI",
        "colab": {
          "base_uri": "https://localhost:8080/",
          "height": 732
        },
        "outputId": "1ac04281-b019-43e5-dbf1-798f358653a1"
      },
      "source": [
        "#Manual dataset creation\n",
        "print(\"\\n Roll No: 20MAI0026\")\n",
        "print(\"\\n********************\")\n",
        "learning_rate=0.1\n",
        "no_of_epochs=20\n",
        "bias_input=1.0\n",
        "bias=0.0\n",
        "theta=1.0\n",
        "dataset=[\n",
        "         [5.1,3.5,1.4,0.2,0.001,0.001,0.001,0.001,0.001,1],\n",
        "         [4.9,3,1.4,0.2,0.001,0.001,0.001,0.001,0.001,1],\n",
        "         [4.7,3.2,1.3,0.2,0.001,0.001,0.001,0.001,0.001,1],\n",
        "         [4.6,3.1,1.5,0.2,0.001,0.001,0.001,0.001,0.001,1],\n",
        "         [5,3.6,1.4,0.2,0.001,0.001,0.001,0.001,0.001,1],\n",
        "         [5.4,3.9,1.7,0.4,0.001,0.001,0.001,0.001,0.001,1],\n",
        "         [4.6,3.4,1.4,0.3,0.001,0.001,0.001,0.001,0.001,1],\n",
        "         [5,3.4,1.5,0.2,0.001,0.001,0.001,0.001,0.001,1],\n",
        "         [4.4,2.9,1.4,0.2,0.001,0.001,0.001,0.001,0.001,1],\n",
        "         [4.9,3.1,1.5,0.1,0.001,0.001,0.001,0.001,0.001,1],\n",
        "         [7,3.2,4.7,1.4,0.001,0.001,0.001,0.001,0.001,-1],\n",
        "         [6.4,3.2,4.5,1.5,0.001,0.001,0.001,0.001,0.001,-1],\n",
        "         [6.9,3.1,4.9,1.5,0.001,0.001,0.001,0.001,0.001,-1],\n",
        "         [5.5,2.3,4,1.3,0.001,0.001,0.001,0.001,0.001,-1],\n",
        "         [6.5,2.8,4.6,1.5,0.001,0.001,0.001,0.001,0.001,-1],\n",
        "         [5.7,2.8,4.5,1.3,0.001,0.001,0.001,0.001,0.001,-1],\n",
        "         [6.3,3.3,4.7,1.6,0.001,0.001,0.001,0.001,0.001,-1],\n",
        "         [4.9,2.4,3.3,1,0.001,0.001,0.001,0.001,0.001,-1],\n",
        "         [6.6,2.9,4.6,1.3,0.001,0.001,0.001,0.001,0.001,-1],\n",
        "         [5.2,2.7,3.9,1.4,0.001,0.001,0.001,0.001,0.001,-1]]\n",
        "         \n",
        "#Loading dataset into dataframes\n",
        "df=pd.DataFrame(dataset,index=[\"D\"+str(i) for i in range(len(dataset))],columns=[\"X\"+str(i) for i in range(len(dataset[0]))])\n",
        "df.rename(columns={'X'+str(len(dataset[0])-1):'Target'},inplace=True)\n",
        "df\n"
      ],
      "execution_count": null,
      "outputs": [
        {
          "output_type": "stream",
          "text": [
            "\n",
            " Roll No: 20MAI0026\n",
            "\n",
            "********************\n"
          ],
          "name": "stdout"
        },
        {
          "output_type": "execute_result",
          "data": {
            "text/html": [
              "<div>\n",
              "<style scoped>\n",
              "    .dataframe tbody tr th:only-of-type {\n",
              "        vertical-align: middle;\n",
              "    }\n",
              "\n",
              "    .dataframe tbody tr th {\n",
              "        vertical-align: top;\n",
              "    }\n",
              "\n",
              "    .dataframe thead th {\n",
              "        text-align: right;\n",
              "    }\n",
              "</style>\n",
              "<table border=\"1\" class=\"dataframe\">\n",
              "  <thead>\n",
              "    <tr style=\"text-align: right;\">\n",
              "      <th></th>\n",
              "      <th>X0</th>\n",
              "      <th>X1</th>\n",
              "      <th>X2</th>\n",
              "      <th>X3</th>\n",
              "      <th>X4</th>\n",
              "      <th>X5</th>\n",
              "      <th>X6</th>\n",
              "      <th>X7</th>\n",
              "      <th>X8</th>\n",
              "      <th>Target</th>\n",
              "    </tr>\n",
              "  </thead>\n",
              "  <tbody>\n",
              "    <tr>\n",
              "      <th>D0</th>\n",
              "      <td>5.1</td>\n",
              "      <td>3.5</td>\n",
              "      <td>1.4</td>\n",
              "      <td>0.2</td>\n",
              "      <td>0.001</td>\n",
              "      <td>0.001</td>\n",
              "      <td>0.001</td>\n",
              "      <td>0.001</td>\n",
              "      <td>0.001</td>\n",
              "      <td>1</td>\n",
              "    </tr>\n",
              "    <tr>\n",
              "      <th>D1</th>\n",
              "      <td>4.9</td>\n",
              "      <td>3.0</td>\n",
              "      <td>1.4</td>\n",
              "      <td>0.2</td>\n",
              "      <td>0.001</td>\n",
              "      <td>0.001</td>\n",
              "      <td>0.001</td>\n",
              "      <td>0.001</td>\n",
              "      <td>0.001</td>\n",
              "      <td>1</td>\n",
              "    </tr>\n",
              "    <tr>\n",
              "      <th>D2</th>\n",
              "      <td>4.7</td>\n",
              "      <td>3.2</td>\n",
              "      <td>1.3</td>\n",
              "      <td>0.2</td>\n",
              "      <td>0.001</td>\n",
              "      <td>0.001</td>\n",
              "      <td>0.001</td>\n",
              "      <td>0.001</td>\n",
              "      <td>0.001</td>\n",
              "      <td>1</td>\n",
              "    </tr>\n",
              "    <tr>\n",
              "      <th>D3</th>\n",
              "      <td>4.6</td>\n",
              "      <td>3.1</td>\n",
              "      <td>1.5</td>\n",
              "      <td>0.2</td>\n",
              "      <td>0.001</td>\n",
              "      <td>0.001</td>\n",
              "      <td>0.001</td>\n",
              "      <td>0.001</td>\n",
              "      <td>0.001</td>\n",
              "      <td>1</td>\n",
              "    </tr>\n",
              "    <tr>\n",
              "      <th>D4</th>\n",
              "      <td>5.0</td>\n",
              "      <td>3.6</td>\n",
              "      <td>1.4</td>\n",
              "      <td>0.2</td>\n",
              "      <td>0.001</td>\n",
              "      <td>0.001</td>\n",
              "      <td>0.001</td>\n",
              "      <td>0.001</td>\n",
              "      <td>0.001</td>\n",
              "      <td>1</td>\n",
              "    </tr>\n",
              "    <tr>\n",
              "      <th>D5</th>\n",
              "      <td>5.4</td>\n",
              "      <td>3.9</td>\n",
              "      <td>1.7</td>\n",
              "      <td>0.4</td>\n",
              "      <td>0.001</td>\n",
              "      <td>0.001</td>\n",
              "      <td>0.001</td>\n",
              "      <td>0.001</td>\n",
              "      <td>0.001</td>\n",
              "      <td>1</td>\n",
              "    </tr>\n",
              "    <tr>\n",
              "      <th>D6</th>\n",
              "      <td>4.6</td>\n",
              "      <td>3.4</td>\n",
              "      <td>1.4</td>\n",
              "      <td>0.3</td>\n",
              "      <td>0.001</td>\n",
              "      <td>0.001</td>\n",
              "      <td>0.001</td>\n",
              "      <td>0.001</td>\n",
              "      <td>0.001</td>\n",
              "      <td>1</td>\n",
              "    </tr>\n",
              "    <tr>\n",
              "      <th>D7</th>\n",
              "      <td>5.0</td>\n",
              "      <td>3.4</td>\n",
              "      <td>1.5</td>\n",
              "      <td>0.2</td>\n",
              "      <td>0.001</td>\n",
              "      <td>0.001</td>\n",
              "      <td>0.001</td>\n",
              "      <td>0.001</td>\n",
              "      <td>0.001</td>\n",
              "      <td>1</td>\n",
              "    </tr>\n",
              "    <tr>\n",
              "      <th>D8</th>\n",
              "      <td>4.4</td>\n",
              "      <td>2.9</td>\n",
              "      <td>1.4</td>\n",
              "      <td>0.2</td>\n",
              "      <td>0.001</td>\n",
              "      <td>0.001</td>\n",
              "      <td>0.001</td>\n",
              "      <td>0.001</td>\n",
              "      <td>0.001</td>\n",
              "      <td>1</td>\n",
              "    </tr>\n",
              "    <tr>\n",
              "      <th>D9</th>\n",
              "      <td>4.9</td>\n",
              "      <td>3.1</td>\n",
              "      <td>1.5</td>\n",
              "      <td>0.1</td>\n",
              "      <td>0.001</td>\n",
              "      <td>0.001</td>\n",
              "      <td>0.001</td>\n",
              "      <td>0.001</td>\n",
              "      <td>0.001</td>\n",
              "      <td>1</td>\n",
              "    </tr>\n",
              "    <tr>\n",
              "      <th>D10</th>\n",
              "      <td>7.0</td>\n",
              "      <td>3.2</td>\n",
              "      <td>4.7</td>\n",
              "      <td>1.4</td>\n",
              "      <td>0.001</td>\n",
              "      <td>0.001</td>\n",
              "      <td>0.001</td>\n",
              "      <td>0.001</td>\n",
              "      <td>0.001</td>\n",
              "      <td>-1</td>\n",
              "    </tr>\n",
              "    <tr>\n",
              "      <th>D11</th>\n",
              "      <td>6.4</td>\n",
              "      <td>3.2</td>\n",
              "      <td>4.5</td>\n",
              "      <td>1.5</td>\n",
              "      <td>0.001</td>\n",
              "      <td>0.001</td>\n",
              "      <td>0.001</td>\n",
              "      <td>0.001</td>\n",
              "      <td>0.001</td>\n",
              "      <td>-1</td>\n",
              "    </tr>\n",
              "    <tr>\n",
              "      <th>D12</th>\n",
              "      <td>6.9</td>\n",
              "      <td>3.1</td>\n",
              "      <td>4.9</td>\n",
              "      <td>1.5</td>\n",
              "      <td>0.001</td>\n",
              "      <td>0.001</td>\n",
              "      <td>0.001</td>\n",
              "      <td>0.001</td>\n",
              "      <td>0.001</td>\n",
              "      <td>-1</td>\n",
              "    </tr>\n",
              "    <tr>\n",
              "      <th>D13</th>\n",
              "      <td>5.5</td>\n",
              "      <td>2.3</td>\n",
              "      <td>4.0</td>\n",
              "      <td>1.3</td>\n",
              "      <td>0.001</td>\n",
              "      <td>0.001</td>\n",
              "      <td>0.001</td>\n",
              "      <td>0.001</td>\n",
              "      <td>0.001</td>\n",
              "      <td>-1</td>\n",
              "    </tr>\n",
              "    <tr>\n",
              "      <th>D14</th>\n",
              "      <td>6.5</td>\n",
              "      <td>2.8</td>\n",
              "      <td>4.6</td>\n",
              "      <td>1.5</td>\n",
              "      <td>0.001</td>\n",
              "      <td>0.001</td>\n",
              "      <td>0.001</td>\n",
              "      <td>0.001</td>\n",
              "      <td>0.001</td>\n",
              "      <td>-1</td>\n",
              "    </tr>\n",
              "    <tr>\n",
              "      <th>D15</th>\n",
              "      <td>5.7</td>\n",
              "      <td>2.8</td>\n",
              "      <td>4.5</td>\n",
              "      <td>1.3</td>\n",
              "      <td>0.001</td>\n",
              "      <td>0.001</td>\n",
              "      <td>0.001</td>\n",
              "      <td>0.001</td>\n",
              "      <td>0.001</td>\n",
              "      <td>-1</td>\n",
              "    </tr>\n",
              "    <tr>\n",
              "      <th>D16</th>\n",
              "      <td>6.3</td>\n",
              "      <td>3.3</td>\n",
              "      <td>4.7</td>\n",
              "      <td>1.6</td>\n",
              "      <td>0.001</td>\n",
              "      <td>0.001</td>\n",
              "      <td>0.001</td>\n",
              "      <td>0.001</td>\n",
              "      <td>0.001</td>\n",
              "      <td>-1</td>\n",
              "    </tr>\n",
              "    <tr>\n",
              "      <th>D17</th>\n",
              "      <td>4.9</td>\n",
              "      <td>2.4</td>\n",
              "      <td>3.3</td>\n",
              "      <td>1.0</td>\n",
              "      <td>0.001</td>\n",
              "      <td>0.001</td>\n",
              "      <td>0.001</td>\n",
              "      <td>0.001</td>\n",
              "      <td>0.001</td>\n",
              "      <td>-1</td>\n",
              "    </tr>\n",
              "    <tr>\n",
              "      <th>D18</th>\n",
              "      <td>6.6</td>\n",
              "      <td>2.9</td>\n",
              "      <td>4.6</td>\n",
              "      <td>1.3</td>\n",
              "      <td>0.001</td>\n",
              "      <td>0.001</td>\n",
              "      <td>0.001</td>\n",
              "      <td>0.001</td>\n",
              "      <td>0.001</td>\n",
              "      <td>-1</td>\n",
              "    </tr>\n",
              "    <tr>\n",
              "      <th>D19</th>\n",
              "      <td>5.2</td>\n",
              "      <td>2.7</td>\n",
              "      <td>3.9</td>\n",
              "      <td>1.4</td>\n",
              "      <td>0.001</td>\n",
              "      <td>0.001</td>\n",
              "      <td>0.001</td>\n",
              "      <td>0.001</td>\n",
              "      <td>0.001</td>\n",
              "      <td>-1</td>\n",
              "    </tr>\n",
              "  </tbody>\n",
              "</table>\n",
              "</div>"
            ],
            "text/plain": [
              "      X0   X1   X2   X3     X4     X5     X6     X7     X8  Target\n",
              "D0   5.1  3.5  1.4  0.2  0.001  0.001  0.001  0.001  0.001       1\n",
              "D1   4.9  3.0  1.4  0.2  0.001  0.001  0.001  0.001  0.001       1\n",
              "D2   4.7  3.2  1.3  0.2  0.001  0.001  0.001  0.001  0.001       1\n",
              "D3   4.6  3.1  1.5  0.2  0.001  0.001  0.001  0.001  0.001       1\n",
              "D4   5.0  3.6  1.4  0.2  0.001  0.001  0.001  0.001  0.001       1\n",
              "D5   5.4  3.9  1.7  0.4  0.001  0.001  0.001  0.001  0.001       1\n",
              "D6   4.6  3.4  1.4  0.3  0.001  0.001  0.001  0.001  0.001       1\n",
              "D7   5.0  3.4  1.5  0.2  0.001  0.001  0.001  0.001  0.001       1\n",
              "D8   4.4  2.9  1.4  0.2  0.001  0.001  0.001  0.001  0.001       1\n",
              "D9   4.9  3.1  1.5  0.1  0.001  0.001  0.001  0.001  0.001       1\n",
              "D10  7.0  3.2  4.7  1.4  0.001  0.001  0.001  0.001  0.001      -1\n",
              "D11  6.4  3.2  4.5  1.5  0.001  0.001  0.001  0.001  0.001      -1\n",
              "D12  6.9  3.1  4.9  1.5  0.001  0.001  0.001  0.001  0.001      -1\n",
              "D13  5.5  2.3  4.0  1.3  0.001  0.001  0.001  0.001  0.001      -1\n",
              "D14  6.5  2.8  4.6  1.5  0.001  0.001  0.001  0.001  0.001      -1\n",
              "D15  5.7  2.8  4.5  1.3  0.001  0.001  0.001  0.001  0.001      -1\n",
              "D16  6.3  3.3  4.7  1.6  0.001  0.001  0.001  0.001  0.001      -1\n",
              "D17  4.9  2.4  3.3  1.0  0.001  0.001  0.001  0.001  0.001      -1\n",
              "D18  6.6  2.9  4.6  1.3  0.001  0.001  0.001  0.001  0.001      -1\n",
              "D19  5.2  2.7  3.9  1.4  0.001  0.001  0.001  0.001  0.001      -1"
            ]
          },
          "metadata": {
            "tags": []
          },
          "execution_count": 63
        }
      ]
    },
    {
      "cell_type": "markdown",
      "metadata": {
        "id": "AoC_5MdwbneD"
      },
      "source": [
        "*i.Display first 5 rows of the dataset*"
      ]
    },
    {
      "cell_type": "code",
      "metadata": {
        "id": "v3WS3bDlbzEq"
      },
      "source": [
        "print(\"\\n Roll No: 20MAI0026\")\n",
        "print(\"\\n********************\")\n",
        "df.head()"
      ],
      "execution_count": null,
      "outputs": []
    },
    {
      "cell_type": "markdown",
      "metadata": {
        "id": "_RaI4X8tb3fc"
      },
      "source": [
        "*ii.Display last 5 rows of the dataset*"
      ]
    },
    {
      "cell_type": "code",
      "metadata": {
        "id": "0RJJ0ZRtcCUK"
      },
      "source": [
        "print(\"\\n Roll No: 20MAI0026\")\n",
        "print(\"\\n********************\")\n",
        "df.tail()"
      ],
      "execution_count": null,
      "outputs": []
    },
    {
      "cell_type": "markdown",
      "metadata": {
        "id": "TdiPYoNQcEBu"
      },
      "source": [
        "*iii.Display shape of the dataset*"
      ]
    },
    {
      "cell_type": "code",
      "metadata": {
        "id": "RLGwcXeTcKQX"
      },
      "source": [
        "print(\"\\n Roll No: 20MAI0026\")\n",
        "print(\"\\n********************\")\n",
        "df.shape"
      ],
      "execution_count": null,
      "outputs": []
    },
    {
      "cell_type": "markdown",
      "metadata": {
        "id": "dXfFIXQ_cL4D"
      },
      "source": [
        "\n",
        "\n",
        "---\n",
        "\n"
      ]
    },
    {
      "cell_type": "markdown",
      "metadata": {
        "id": "pYfeRcsIbUpA"
      },
      "source": [
        "***4. Train Test Datasplit***"
      ]
    },
    {
      "cell_type": "markdown",
      "metadata": {
        "id": "3KiJvP0ncoWf"
      },
      "source": [
        "\n",
        "\n",
        "> 1.With 10% test data\n",
        "\n",
        "\n"
      ]
    },
    {
      "cell_type": "code",
      "metadata": {
        "id": "iLcfwn6wcSFa"
      },
      "source": [
        "X=df.drop('Target',axis=1)\n",
        "Y=df['Target']\n",
        "#Splitting the dataset into train and test using train_test_split 90:10\n",
        "X_train,X_test,Y_train,Y_test=train_test_split(X,Y,test_size=0.1,stratify=Y)\n",
        "train_ds=pd.concat([X_train,Y_train],axis=1).values.tolist()\n",
        "test_ds=pd.concat([X_test,Y_test],axis=1).values.tolist()\n",
        "target=Y_test.values.tolist()"
      ],
      "execution_count": null,
      "outputs": []
    },
    {
      "cell_type": "markdown",
      "metadata": {
        "id": "OlnkEa51dmFl"
      },
      "source": [
        "\n",
        "\n",
        "> 2.With 20% test data\n",
        "\n",
        "\n"
      ]
    },
    {
      "cell_type": "code",
      "metadata": {
        "id": "6WF8Ueg8dqor"
      },
      "source": [
        "X=df.drop('Target',axis=1)\n",
        "Y=df['Target']\n",
        "#Splitting the dataset into train and test using train_test_split 80:20\n",
        "X_train,X_test,Y_train,Y_test=train_test_split(X,Y,test_size=0.2,stratify=Y)\n",
        "train_ds=pd.concat([X_train,Y_train],axis=1).values.tolist()\n",
        "test_ds=pd.concat([X_test,Y_test],axis=1).values.tolist()\n",
        "target=Y_test.values.tolist()"
      ],
      "execution_count": null,
      "outputs": []
    },
    {
      "cell_type": "markdown",
      "metadata": {
        "id": "xJ-U8FWgdoNQ"
      },
      "source": [
        "\n",
        "\n",
        "> 3.With 30% test data\n",
        "\n",
        "\n"
      ]
    },
    {
      "cell_type": "code",
      "metadata": {
        "id": "drEr7XhadrI9"
      },
      "source": [
        "X=df.drop('Target',axis=1)\n",
        "Y=df['Target']\n",
        "#Splitting the dataset into train and test using train_test_split 70:30\n",
        "X_train,X_test,Y_train,Y_test=train_test_split(X,Y,test_size=0.3,stratify=Y)\n",
        "train_ds=pd.concat([X_train,Y_train],axis=1).values.tolist()\n",
        "test_ds=pd.concat([X_test,Y_test],axis=1).values.tolist()\n",
        "target=Y_test.values.tolist()"
      ],
      "execution_count": null,
      "outputs": []
    },
    {
      "cell_type": "markdown",
      "metadata": {
        "id": "-AakxKxBdobx"
      },
      "source": [
        "\n",
        "\n",
        "> 4.With 40% test data\n",
        "\n",
        "\n"
      ]
    },
    {
      "cell_type": "code",
      "metadata": {
        "id": "co9SgVVgdr9p"
      },
      "source": [
        "X=df.drop('Target',axis=1)\n",
        "Y=df['Target']\n",
        "#Splitting the dataset into train and test using train_test_split 60:40\n",
        "X_train,X_test,Y_train,Y_test=train_test_split(X,Y,test_size=0.4,stratify=Y)\n",
        "train_ds=pd.concat([X_train,Y_train],axis=1).values.tolist()\n",
        "test_ds=pd.concat([X_test,Y_test],axis=1).values.tolist()\n",
        "target=Y_test.values.tolist()"
      ],
      "execution_count": null,
      "outputs": []
    },
    {
      "cell_type": "markdown",
      "metadata": {
        "id": "dEsAan7edomV"
      },
      "source": [
        "\n",
        "\n",
        "> 5.With 50% test data\n",
        "\n",
        "\n"
      ]
    },
    {
      "cell_type": "code",
      "metadata": {
        "id": "E04dBHZ3dse5"
      },
      "source": [
        "X=df.drop('Target',axis=1)\n",
        "Y=df['Target']\n",
        "#Splitting the dataset into train and test using train_test_split 50:50\n",
        "X_train,X_test,Y_train,Y_test=train_test_split(X,Y,test_size=0.5,stratify=Y)\n",
        "train_ds=pd.concat([X_train,Y_train],axis=1).values.tolist()\n",
        "test_ds=pd.concat([X_test,Y_test],axis=1).values.tolist()\n",
        "target=Y_test.values.tolist()"
      ],
      "execution_count": null,
      "outputs": []
    },
    {
      "cell_type": "markdown",
      "metadata": {
        "id": "Xm3t3bPzrESU"
      },
      "source": [
        "***5. Training the model***"
      ]
    },
    {
      "cell_type": "code",
      "metadata": {
        "colab": {
          "base_uri": "https://localhost:8080/"
        },
        "id": "Mm91uFNArOkl",
        "outputId": "130380bb-d565-47c2-d25e-457f6104539a"
      },
      "source": [
        "#Training the model using simple perceptron algorithm\n",
        "weights,bias=trainingModel(train_ds,learning_rate,bias_input,bias,theta,no_of_epochs);\n",
        "print(\"Optimal Weights:\")\n",
        "for i in range(len(dataset[0])-1):\n",
        "          print('w'+str(i)+'=%f' %(weights[i]))\n",
        "print(\"Optimal Bias: \"+str(bias))"
      ],
      "execution_count": null,
      "outputs": [
        {
          "output_type": "stream",
          "text": [
            "\n",
            " Roll No: 20MAI0026\n",
            "\n",
            "********************\n",
            "\n",
            "No. of datapoints = 10\n",
            "\n",
            "No. of input features = 9\n",
            "\n",
            "Learning rate = 0.100000\n",
            "\n",
            "Initial Weights = [0.0, 0.0, 0.0, 0.0, 0.0, 0.0, 0.0, 0.0, 0.0]\n",
            "\n",
            "Initial Bias = 0.0\n",
            "\n",
            "------------------------------Epoch=0-----------------------------\n",
            "X0= 5.700000 X1= 2.800000 X2= 4.500000 X3= 1.300000 X4= 0.001000 X5= 0.001000 X6= 0.001000 X7= 0.001000 X8= 0.001000 Yin = 0.00 T = -1\t Y = -1\t W0= 0.000000\t W1= 0.000000\t W2= 0.000000\t W3= 0.000000\t W4= 0.000000\t W5= 0.000000\t W6= 0.000000\t W7= 0.000000\t W8= 0.000000\t B = 0.000000\t \n",
            "\n",
            "X0= 6.400000 X1= 3.200000 X2= 4.500000 X3= 1.500000 X4= 0.001000 X5= 0.001000 X6= 0.001000 X7= 0.001000 X8= 0.001000 Yin = 0.00 T = -1\t Y = -1\t W0= 0.000000\t W1= 0.000000\t W2= 0.000000\t W3= 0.000000\t W4= 0.000000\t W5= 0.000000\t W6= 0.000000\t W7= 0.000000\t W8= 0.000000\t B = 0.000000\t \n",
            "\n",
            "X0= 5.000000 X1= 3.600000 X2= 1.400000 X3= 0.200000 X4= 0.001000 X5= 0.001000 X6= 0.001000 X7= 0.001000 X8= 0.001000 Yin = 0.00 T = 1\t Y = -1\t W0= 0.500000\t W1= 0.360000\t W2= 0.140000\t W3= 0.020000\t W4= 0.000100\t W5= 0.000100\t W6= 0.000100\t W7= 0.000100\t W8= 0.000100\t B = 0.100000\t \n",
            "\n",
            "X0= 6.300000 X1= 3.300000 X2= 4.700000 X3= 1.600000 X4= 0.001000 X5= 0.001000 X6= 0.001000 X7= 0.001000 X8= 0.001000 Yin = 5.13 T = -1\t Y = 1\t W0= -0.130000\t W1= 0.030000\t W2= -0.330000\t W3= -0.140000\t W4= 0.000000\t W5= 0.000000\t W6= 0.000000\t W7= 0.000000\t W8= 0.000000\t B = 0.000000\t \n",
            "\n",
            "X0= 4.600000 X1= 3.100000 X2= 1.500000 X3= 0.200000 X4= 0.001000 X5= 0.001000 X6= 0.001000 X7= 0.001000 X8= 0.001000 Yin = -1.03 T = 1\t Y = -1\t W0= 0.330000\t W1= 0.340000\t W2= -0.180000\t W3= -0.120000\t W4= 0.000100\t W5= 0.000100\t W6= 0.000100\t W7= 0.000100\t W8= 0.000100\t B = 0.100000\t \n",
            "\n",
            "X0= 6.500000 X1= 2.800000 X2= 4.600000 X3= 1.500000 X4= 0.001000 X5= 0.001000 X6= 0.001000 X7= 0.001000 X8= 0.001000 Yin = 2.19 T = -1\t Y = 1\t W0= -0.320000\t W1= 0.060000\t W2= -0.640000\t W3= -0.270000\t W4= 0.000000\t W5= 0.000000\t W6= 0.000000\t W7= 0.000000\t W8= 0.000000\t B = 0.000000\t \n",
            "\n",
            "X0= 4.400000 X1= 2.900000 X2= 1.400000 X3= 0.200000 X4= 0.001000 X5= 0.001000 X6= 0.001000 X7= 0.001000 X8= 0.001000 Yin = -2.18 T = 1\t Y = -1\t W0= 0.120000\t W1= 0.350000\t W2= -0.500000\t W3= -0.250000\t W4= 0.000100\t W5= 0.000100\t W6= 0.000100\t W7= 0.000100\t W8= 0.000100\t B = 0.100000\t \n",
            "\n",
            "X0= 4.900000 X1= 3.000000 X2= 1.400000 X3= 0.200000 X4= 0.001000 X5= 0.001000 X6= 0.001000 X7= 0.001000 X8= 0.001000 Yin = 0.99 T = 1\t Y = -1\t W0= 0.610000\t W1= 0.650000\t W2= -0.360000\t W3= -0.230000\t W4= 0.000200\t W5= 0.000200\t W6= 0.000200\t W7= 0.000200\t W8= 0.000200\t B = 0.200000\t \n",
            "\n",
            "X0= 6.900000 X1= 3.100000 X2= 4.900000 X3= 1.500000 X4= 0.001000 X5= 0.001000 X6= 0.001000 X7= 0.001000 X8= 0.001000 Yin = 4.32 T = -1\t Y = 1\t W0= -0.080000\t W1= 0.340000\t W2= -0.850000\t W3= -0.380000\t W4= 0.000100\t W5= 0.000100\t W6= 0.000100\t W7= 0.000100\t W8= 0.000100\t B = 0.100000\t \n",
            "\n",
            "X0= 4.700000 X1= 3.200000 X2= 1.300000 X3= 0.200000 X4= 0.001000 X5= 0.001000 X6= 0.001000 X7= 0.001000 X8= 0.001000 Yin = -0.37 T = 1\t Y = -1\t W0= 0.390000\t W1= 0.660000\t W2= -0.720000\t W3= -0.360000\t W4= 0.000200\t W5= 0.000200\t W6= 0.000200\t W7= 0.000200\t W8= 0.000200\t B = 0.200000\t \n",
            "\n",
            "\n",
            "------------------------------Epoch=1-----------------------------\n",
            "X0= 5.700000 X1= 2.800000 X2= 4.500000 X3= 1.300000 X4= 0.001000 X5= 0.001000 X6= 0.001000 X7= 0.001000 X8= 0.001000 Yin = 0.56 T = -1\t Y = -1\t W0= 0.390000\t W1= 0.660000\t W2= -0.720000\t W3= -0.360000\t W4= 0.000200\t W5= 0.000200\t W6= 0.000200\t W7= 0.000200\t W8= 0.000200\t B = 0.200000\t \n",
            "\n",
            "X0= 6.400000 X1= 3.200000 X2= 4.500000 X3= 1.500000 X4= 0.001000 X5= 0.001000 X6= 0.001000 X7= 0.001000 X8= 0.001000 Yin = 1.03 T = -1\t Y = 1\t W0= -0.250000\t W1= 0.340000\t W2= -1.170000\t W3= -0.510000\t W4= 0.000100\t W5= 0.000100\t W6= 0.000100\t W7= 0.000100\t W8= 0.000100\t B = 0.100000\t \n",
            "\n",
            "X0= 5.000000 X1= 3.600000 X2= 1.400000 X3= 0.200000 X4= 0.001000 X5= 0.001000 X6= 0.001000 X7= 0.001000 X8= 0.001000 Yin = -1.67 T = 1\t Y = -1\t W0= 0.250000\t W1= 0.700000\t W2= -1.030000\t W3= -0.490000\t W4= 0.000200\t W5= 0.000200\t W6= 0.000200\t W7= 0.000200\t W8= 0.000200\t B = 0.200000\t \n",
            "\n",
            "X0= 6.300000 X1= 3.300000 X2= 4.700000 X3= 1.600000 X4= 0.001000 X5= 0.001000 X6= 0.001000 X7= 0.001000 X8= 0.001000 Yin = -1.54 T = -1\t Y = -1\t W0= 0.250000\t W1= 0.700000\t W2= -1.030000\t W3= -0.490000\t W4= 0.000200\t W5= 0.000200\t W6= 0.000200\t W7= 0.000200\t W8= 0.000200\t B = 0.200000\t \n",
            "\n",
            "X0= 4.600000 X1= 3.100000 X2= 1.500000 X3= 0.200000 X4= 0.001000 X5= 0.001000 X6= 0.001000 X7= 0.001000 X8= 0.001000 Yin = 1.88 T = 1\t Y = 1\t W0= 0.250000\t W1= 0.700000\t W2= -1.030000\t W3= -0.490000\t W4= 0.000200\t W5= 0.000200\t W6= 0.000200\t W7= 0.000200\t W8= 0.000200\t B = 0.200000\t \n",
            "\n",
            "X0= 6.500000 X1= 2.800000 X2= 4.600000 X3= 1.500000 X4= 0.001000 X5= 0.001000 X6= 0.001000 X7= 0.001000 X8= 0.001000 Yin = -1.69 T = -1\t Y = -1\t W0= 0.250000\t W1= 0.700000\t W2= -1.030000\t W3= -0.490000\t W4= 0.000200\t W5= 0.000200\t W6= 0.000200\t W7= 0.000200\t W8= 0.000200\t B = 0.200000\t \n",
            "\n",
            "X0= 4.400000 X1= 2.900000 X2= 1.400000 X3= 0.200000 X4= 0.001000 X5= 0.001000 X6= 0.001000 X7= 0.001000 X8= 0.001000 Yin = 1.79 T = 1\t Y = 1\t W0= 0.250000\t W1= 0.700000\t W2= -1.030000\t W3= -0.490000\t W4= 0.000200\t W5= 0.000200\t W6= 0.000200\t W7= 0.000200\t W8= 0.000200\t B = 0.200000\t \n",
            "\n",
            "X0= 4.900000 X1= 3.000000 X2= 1.400000 X3= 0.200000 X4= 0.001000 X5= 0.001000 X6= 0.001000 X7= 0.001000 X8= 0.001000 Yin = 1.99 T = 1\t Y = 1\t W0= 0.250000\t W1= 0.700000\t W2= -1.030000\t W3= -0.490000\t W4= 0.000200\t W5= 0.000200\t W6= 0.000200\t W7= 0.000200\t W8= 0.000200\t B = 0.200000\t \n",
            "\n",
            "X0= 6.900000 X1= 3.100000 X2= 4.900000 X3= 1.500000 X4= 0.001000 X5= 0.001000 X6= 0.001000 X7= 0.001000 X8= 0.001000 Yin = -1.69 T = -1\t Y = -1\t W0= 0.250000\t W1= 0.700000\t W2= -1.030000\t W3= -0.490000\t W4= 0.000200\t W5= 0.000200\t W6= 0.000200\t W7= 0.000200\t W8= 0.000200\t B = 0.200000\t \n",
            "\n",
            "X0= 4.700000 X1= 3.200000 X2= 1.300000 X3= 0.200000 X4= 0.001000 X5= 0.001000 X6= 0.001000 X7= 0.001000 X8= 0.001000 Yin = 2.18 T = 1\t Y = 1\t W0= 0.250000\t W1= 0.700000\t W2= -1.030000\t W3= -0.490000\t W4= 0.000200\t W5= 0.000200\t W6= 0.000200\t W7= 0.000200\t W8= 0.000200\t B = 0.200000\t \n",
            "\n",
            "\n",
            "------------------------------Epoch=2-----------------------------\n",
            "X0= 5.700000 X1= 2.800000 X2= 4.500000 X3= 1.300000 X4= 0.001000 X5= 0.001000 X6= 0.001000 X7= 0.001000 X8= 0.001000 Yin = -1.69 T = -1\t Y = -1\t W0= 0.250000\t W1= 0.700000\t W2= -1.030000\t W3= -0.490000\t W4= 0.000200\t W5= 0.000200\t W6= 0.000200\t W7= 0.000200\t W8= 0.000200\t B = 0.200000\t \n",
            "\n",
            "X0= 6.400000 X1= 3.200000 X2= 4.500000 X3= 1.500000 X4= 0.001000 X5= 0.001000 X6= 0.001000 X7= 0.001000 X8= 0.001000 Yin = -1.33 T = -1\t Y = -1\t W0= 0.250000\t W1= 0.700000\t W2= -1.030000\t W3= -0.490000\t W4= 0.000200\t W5= 0.000200\t W6= 0.000200\t W7= 0.000200\t W8= 0.000200\t B = 0.200000\t \n",
            "\n",
            "X0= 5.000000 X1= 3.600000 X2= 1.400000 X3= 0.200000 X4= 0.001000 X5= 0.001000 X6= 0.001000 X7= 0.001000 X8= 0.001000 Yin = 2.43 T = 1\t Y = 1\t W0= 0.250000\t W1= 0.700000\t W2= -1.030000\t W3= -0.490000\t W4= 0.000200\t W5= 0.000200\t W6= 0.000200\t W7= 0.000200\t W8= 0.000200\t B = 0.200000\t \n",
            "\n",
            "X0= 6.300000 X1= 3.300000 X2= 4.700000 X3= 1.600000 X4= 0.001000 X5= 0.001000 X6= 0.001000 X7= 0.001000 X8= 0.001000 Yin = -1.54 T = -1\t Y = -1\t W0= 0.250000\t W1= 0.700000\t W2= -1.030000\t W3= -0.490000\t W4= 0.000200\t W5= 0.000200\t W6= 0.000200\t W7= 0.000200\t W8= 0.000200\t B = 0.200000\t \n",
            "\n",
            "X0= 4.600000 X1= 3.100000 X2= 1.500000 X3= 0.200000 X4= 0.001000 X5= 0.001000 X6= 0.001000 X7= 0.001000 X8= 0.001000 Yin = 1.88 T = 1\t Y = 1\t W0= 0.250000\t W1= 0.700000\t W2= -1.030000\t W3= -0.490000\t W4= 0.000200\t W5= 0.000200\t W6= 0.000200\t W7= 0.000200\t W8= 0.000200\t B = 0.200000\t \n",
            "\n",
            "X0= 6.500000 X1= 2.800000 X2= 4.600000 X3= 1.500000 X4= 0.001000 X5= 0.001000 X6= 0.001000 X7= 0.001000 X8= 0.001000 Yin = -1.69 T = -1\t Y = -1\t W0= 0.250000\t W1= 0.700000\t W2= -1.030000\t W3= -0.490000\t W4= 0.000200\t W5= 0.000200\t W6= 0.000200\t W7= 0.000200\t W8= 0.000200\t B = 0.200000\t \n",
            "\n",
            "X0= 4.400000 X1= 2.900000 X2= 1.400000 X3= 0.200000 X4= 0.001000 X5= 0.001000 X6= 0.001000 X7= 0.001000 X8= 0.001000 Yin = 1.79 T = 1\t Y = 1\t W0= 0.250000\t W1= 0.700000\t W2= -1.030000\t W3= -0.490000\t W4= 0.000200\t W5= 0.000200\t W6= 0.000200\t W7= 0.000200\t W8= 0.000200\t B = 0.200000\t \n",
            "\n",
            "X0= 4.900000 X1= 3.000000 X2= 1.400000 X3= 0.200000 X4= 0.001000 X5= 0.001000 X6= 0.001000 X7= 0.001000 X8= 0.001000 Yin = 1.99 T = 1\t Y = 1\t W0= 0.250000\t W1= 0.700000\t W2= -1.030000\t W3= -0.490000\t W4= 0.000200\t W5= 0.000200\t W6= 0.000200\t W7= 0.000200\t W8= 0.000200\t B = 0.200000\t \n",
            "\n",
            "X0= 6.900000 X1= 3.100000 X2= 4.900000 X3= 1.500000 X4= 0.001000 X5= 0.001000 X6= 0.001000 X7= 0.001000 X8= 0.001000 Yin = -1.69 T = -1\t Y = -1\t W0= 0.250000\t W1= 0.700000\t W2= -1.030000\t W3= -0.490000\t W4= 0.000200\t W5= 0.000200\t W6= 0.000200\t W7= 0.000200\t W8= 0.000200\t B = 0.200000\t \n",
            "\n",
            "X0= 4.700000 X1= 3.200000 X2= 1.300000 X3= 0.200000 X4= 0.001000 X5= 0.001000 X6= 0.001000 X7= 0.001000 X8= 0.001000 Yin = 2.18 T = 1\t Y = 1\t W0= 0.250000\t W1= 0.700000\t W2= -1.030000\t W3= -0.490000\t W4= 0.000200\t W5= 0.000200\t W6= 0.000200\t W7= 0.000200\t W8= 0.000200\t B = 0.200000\t \n",
            "\n",
            "\n",
            "Total number of epochs = 3\n",
            "Optimal Weights:\n",
            "w0=0.250000\n",
            "w1=0.700000\n",
            "w2=-1.030000\n",
            "w3=-0.490000\n",
            "w4=0.000200\n",
            "w5=0.000200\n",
            "w6=0.000200\n",
            "w7=0.000200\n",
            "w8=0.000200\n",
            "Optimal Bias: 0.2\n"
          ],
          "name": "stdout"
        }
      ]
    },
    {
      "cell_type": "markdown",
      "metadata": {
        "id": "Jw2ENUiTpTYg"
      },
      "source": [
        "***5. Testing the model***"
      ]
    },
    {
      "cell_type": "code",
      "metadata": {
        "colab": {
          "base_uri": "https://localhost:8080/"
        },
        "id": "bVhaBrRppN4r",
        "outputId": "89df70e9-9dd2-413a-e534-52f90580626c"
      },
      "source": [
        "#Testing the model using simple perceptron algorithm\n",
        "predicted=testingModel(test_ds,weights,bias,learning_rate,theta);\n"
      ],
      "execution_count": null,
      "outputs": [
        {
          "output_type": "stream",
          "text": [
            "\n",
            " Roll No: 20MAI0026\n",
            "\n",
            "********************\n",
            "\n",
            "Learning rate = 0.100000\n",
            "\n",
            "Trained Weights = [0.24999999999999994, 0.7000000000000002, -1.0300000000000002, -0.49, 0.0002, 0.0002, 0.0002, 0.0002, 0.0002]\n",
            "\n",
            "Trained Bias = 0.2\n",
            "X0= 4.900000 X1= 2.400000 X2= 3.300000 X3= 1.000000 X4= 0.001000 X5= 0.001000 X6= 0.001000 X7= 0.001000 X8= 0.001000 Yin = -0.78 T = -1\t Y = -1\t \n",
            "\n",
            "X0= 4.600000 X1= 3.400000 X2= 1.400000 X3= 0.300000 X4= 0.001000 X5= 0.001000 X6= 0.001000 X7= 0.001000 X8= 0.001000 Yin = 2.14 T = 1\t Y = 1\t \n",
            "\n",
            "X0= 6.600000 X1= 2.900000 X2= 4.600000 X3= 1.300000 X4= 0.001000 X5= 0.001000 X6= 0.001000 X7= 0.001000 X8= 0.001000 Yin = -1.49 T = -1\t Y = -1\t \n",
            "\n",
            "X0= 5.500000 X1= 2.300000 X2= 4.000000 X3= 1.300000 X4= 0.001000 X5= 0.001000 X6= 0.001000 X7= 0.001000 X8= 0.001000 Yin = -1.57 T = -1\t Y = -1\t \n",
            "\n",
            "X0= 5.400000 X1= 3.900000 X2= 1.700000 X3= 0.400000 X4= 0.001000 X5= 0.001000 X6= 0.001000 X7= 0.001000 X8= 0.001000 Yin = 2.33 T = 1\t Y = 1\t \n",
            "\n",
            "X0= 5.100000 X1= 3.500000 X2= 1.400000 X3= 0.200000 X4= 0.001000 X5= 0.001000 X6= 0.001000 X7= 0.001000 X8= 0.001000 Yin = 2.39 T = 1\t Y = 1\t \n",
            "\n",
            "X0= 4.900000 X1= 3.100000 X2= 1.500000 X3= 0.100000 X4= 0.001000 X5= 0.001000 X6= 0.001000 X7= 0.001000 X8= 0.001000 Yin = 2.00 T = 1\t Y = 1\t \n",
            "\n",
            "X0= 5.000000 X1= 3.400000 X2= 1.500000 X3= 0.200000 X4= 0.001000 X5= 0.001000 X6= 0.001000 X7= 0.001000 X8= 0.001000 Yin = 2.19 T = 1\t Y = 1\t \n",
            "\n",
            "X0= 5.200000 X1= 2.700000 X2= 3.900000 X3= 1.400000 X4= 0.001000 X5= 0.001000 X6= 0.001000 X7= 0.001000 X8= 0.001000 Yin = -1.31 T = -1\t Y = -1\t \n",
            "\n",
            "X0= 7.000000 X1= 3.200000 X2= 4.700000 X3= 1.400000 X4= 0.001000 X5= 0.001000 X6= 0.001000 X7= 0.001000 X8= 0.001000 Yin = -1.34 T = -1\t Y = -1\t \n",
            "\n"
          ],
          "name": "stdout"
        }
      ]
    },
    {
      "cell_type": "markdown",
      "metadata": {
        "id": "CCJrIO8cmTXR"
      },
      "source": [
        "***6. Evaluation of the model metrics***"
      ]
    },
    {
      "cell_type": "code",
      "metadata": {
        "colab": {
          "base_uri": "https://localhost:8080/"
        },
        "id": "aaGEg_OJmosx",
        "outputId": "4ae6a6e5-5451-4a3e-eb10-ad649b2be7e5"
      },
      "source": [
        "\n",
        "#Compute the confusion matrix\n",
        "confusion = confusion_matrix(target,predicted, labels=[1,-1])\n",
        "print('Confusion matrix : \\n',confusion)\n",
        "\n",
        "#Calculate accuracy of the model\n",
        "tn, fp, fn, tp = confusion_matrix(target,predicted, labels=[1,-1]).ravel()\n",
        "accuracy=((tp+tn)/(tp+tn+fp+fn))*100\n",
        "print('\\nAccuracy = '+str(accuracy)+'%')"
      ],
      "execution_count": null,
      "outputs": [
        {
          "output_type": "stream",
          "text": [
            "Confusion matrix : \n",
            " [[5 0]\n",
            " [0 5]]\n",
            "\n",
            "Accuracy = 100.0%\n"
          ],
          "name": "stdout"
        }
      ]
    },
    {
      "cell_type": "markdown",
      "metadata": {
        "id": "IQ4_y11zQfHQ"
      },
      "source": [
        "\r\n",
        "\r\n"
      ]
    }
  ]
}